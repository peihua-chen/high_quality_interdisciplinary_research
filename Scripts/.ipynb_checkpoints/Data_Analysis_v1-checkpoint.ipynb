{
 "cells": [
  {
   "cell_type": "code",
   "execution_count": 1,
   "metadata": {},
   "outputs": [
    {
     "name": "stderr",
     "output_type": "stream",
     "text": [
      "Loading required package: pacman\n",
      "Warning message:\n",
      "\"package 'pacman' was built under R version 3.6.3\""
     ]
    }
   ],
   "source": [
    "if (!require(\"pacman\")) install.packages(\"pacman\")\n",
    "p_load(data.table, ggplot2, dplyr, scales, caret, googledrive, ggpubr, tidyr, cowplot)"
   ]
  },
  {
   "cell_type": "code",
   "execution_count": 2,
   "metadata": {},
   "outputs": [],
   "source": [
    "# drive_download(file = as_id(\"https://drive.google.com/open?id=1cojd2hT5QFTc9Qabyd3vJnpl4uiU--n9\"),\n",
    "#   path = \"Pubs_Final.csv\",\n",
    "#   overwrite = TRUE)\n",
    "\n",
    "# drive_download(file = as_id(\"https://drive.google.com/open?id=1uAwZfZ_0RKO4tvqIbXQqMNq2MuKmexup\"),\n",
    "#   path = \"Comp_Final.csv\",\n",
    "#   overwrite = TRUE)\n",
    "\n",
    "# drive_download(file = as_id(\"https://drive.google.com/open?id=1p47VtjOC87uB33ZOWJqidYort9suOHFv\"),\n",
    "#   path = \"PubsCited_Final.csv\",\n",
    "#   overwrite = TRUE)\n",
    "\n",
    "# drive_download(file = as_id(\"https://drive.google.com/open?id=1qUoBDeKDqHXEvcXQiEmYia94Ra03J2nm\"),\n",
    "#   path = \"CompCited_Sample_Final.csv\",\n",
    "#   overwrite = TRUE)\n",
    "setwd(\"C:/Users/phchen/Desktop/sds480/Interdisciplinary Research Dataset/Proper Data\")\n",
    "pubs = fread(\"Pubs_Final.csv\", encoding = \"UTF-8\", stringsAsFactors = F)\n",
    "comp = fread(\"Comp_Final.csv\", encoding = \"UTF-8\", stringsAsFactors = F)\n",
    "pubs_cited = fread(\"PubsCited_Final.csv\", encoding = \"UTF-8\", stringsAsFactors = F)\n",
    "comp_cited = fread(\"CompCited_Sample_Final.csv\", encoding = \"UTF-8\", stringsAsFactors = F)"
   ]
  },
  {
   "cell_type": "code",
   "execution_count": 3,
   "metadata": {
    "scrolled": true
   },
   "outputs": [
    {
     "data": {
      "text/html": [
       "<table>\n",
       "<caption>A data.table: 6 × 29</caption>\n",
       "<thead>\n",
       "\t<tr><th scope=col>scopus_id</th><th scope=col>eid</th><th scope=col>title</th><th scope=col>publication_name</th><th scope=col>issn</th><th scope=col>isbn</th><th scope=col>eissn</th><th scope=col>volume</th><th scope=col>issue</th><th scope=col>page_range</th><th scope=col>...</th><th scope=col>auth_keywords</th><th scope=col>fund_acr</th><th scope=col>fund_no</th><th scope=col>fund_sponsor</th><th scope=col>full_text</th><th scope=col>Field</th><th scope=col>Quartile</th><th scope=col>CiteScore</th><th scope=col>Dataset</th><th scope=col>query</th></tr>\n",
       "\t<tr><th scope=col>&lt;int64&gt;</th><th scope=col>&lt;chr&gt;</th><th scope=col>&lt;chr&gt;</th><th scope=col>&lt;chr&gt;</th><th scope=col>&lt;chr&gt;</th><th scope=col>&lt;lgl&gt;</th><th scope=col>&lt;chr&gt;</th><th scope=col>&lt;chr&gt;</th><th scope=col>&lt;chr&gt;</th><th scope=col>&lt;chr&gt;</th><th scope=col>...</th><th scope=col>&lt;chr&gt;</th><th scope=col>&lt;chr&gt;</th><th scope=col>&lt;chr&gt;</th><th scope=col>&lt;chr&gt;</th><th scope=col>&lt;chr&gt;</th><th scope=col>&lt;chr&gt;</th><th scope=col>&lt;chr&gt;</th><th scope=col>&lt;dbl&gt;</th><th scope=col>&lt;chr&gt;</th><th scope=col>&lt;chr&gt;</th></tr>\n",
       "</thead>\n",
       "<tbody>\n",
       "\t<tr><td>84889092764</td><td>2-s2.0-84889092764</td><td>The social-ecological system framework as a knowledge classificatory system for benthic small-scale fisheries                               </td><td>Global Environmental Change        </td><td>9593780 </td><td>NA</td><td>        </td><td>23 </td><td>6</td><td>1366-1380</td><td>...</td><td>Benthic small-scale fisheries | Chile | Human dimensions | Mexico | Social-ecological system (SES) framework                                                                                               </td><td></td><td>undefined</td><td>Duke University                    </td><td>https://api.elsevier.com/content/article/eid/1-s2.0-S0959378013001350</td><td>NS</td><td>Quartile 1</td><td>10.29</td><td>Interdisciplinary</td><td>EXACTSRCTITLE(Global Environmental Change) AND VOLUME(23) AND ISSUE(6)</td></tr>\n",
       "\t<tr><td>84891884316</td><td>2-s2.0-84891884316</td><td>Cooperative and noncooperative strategies for small-scale fisheries' self-governance in the globalization era: Implications for conservation</td><td>Ecology and Society                </td><td>        </td><td>NA</td><td>17083087</td><td>18 </td><td>4</td><td>         </td><td>...</td><td>Commercialization | Fishing cooperatives | Gulf of California fisheries | Location and co-op choice | Resource stewardship | Self-governance | Small-scale fisheries                                       </td><td></td><td>undefined</td><td>                                   </td><td>                                                                     </td><td>NS</td><td>Quartile 1</td><td> 4.81</td><td>Interdisciplinary</td><td>EXACTSRCTITLE(Ecology and Society) AND VOLUME(18) AND ISSUE(4)        </td></tr>\n",
       "\t<tr><td>84884713045</td><td>2-s2.0-84884713045</td><td>How good science and stories can go hand-in-hand                                                                                            </td><td>Conservation Biology               </td><td>8888892 </td><td>NA</td><td>15231739</td><td>27 </td><td>5</td><td>1126-1129</td><td>...</td><td>                                                                                                                                                                                                           </td><td></td><td>undefined</td><td>David and Lucile Packard Foundation</td><td>                                                                     </td><td>NS</td><td>Quartile 1</td><td> 5.97</td><td>Interdisciplinary</td><td>EXACTSRCTITLE(Conservation Biology) AND VOLUME(27) AND ISSUE(5)       </td></tr>\n",
       "\t<tr><td>84878910274</td><td>2-s2.0-84878910274</td><td>Evidence of market-driven size-selective fishing and the mediating effects of biological and institutional factors                          </td><td>Ecological Applications            </td><td>10510761</td><td>NA</td><td>        </td><td>23 </td><td>4</td><td>726-741  </td><td>...</td><td>Coupled natural and human systems model | Coupled social-ecological systems | Ecosystem services | Fishing | Human behavior | Life history traits; population modeling | Selective harvest | Size selection</td><td></td><td>undefined</td><td>                                   </td><td>                                                                     </td><td>NS</td><td>Quartile 1</td><td> 4.40</td><td>Interdisciplinary</td><td>EXACTSRCTITLE(Ecological Applications) AND VOLUME(23) AND ISSUE(4)    </td></tr>\n",
       "\t<tr><td>84873931007</td><td>2-s2.0-84873931007</td><td>Long-term effectiveness of a multi-use marine protected area on reef fish assemblages and fisheries landings                                </td><td>Journal of Environmental Management</td><td>3014797 </td><td>NA</td><td>10958630</td><td>117</td><td> </td><td>276-283  </td><td>...</td><td>Beyond-BACI analysis | Fisheries management | Gulf of California | Marine protected area | No-take areas | Reef fish assemblages                                                                           </td><td></td><td>undefined</td><td>                                   </td><td>https://api.elsevier.com/content/article/eid/1-s2.0-S0301479712006676</td><td>NS</td><td>Quartile 1</td><td> 5.32</td><td>Interdisciplinary</td><td>EXACTSRCTITLE(Journal of Environmental Management) AND VOLUME(117)    </td></tr>\n",
       "\t<tr><td>84875549052</td><td>2-s2.0-84875549052</td><td>The Need for a Next Generation of Sonoran Desert Researchers                                                                                </td><td>Conservation Biology               </td><td>8888892 </td><td>NA</td><td>15231739</td><td>27 </td><td>2</td><td>243-245  </td><td>...</td><td>                                                                                                                                                                                                           </td><td></td><td>undefined</td><td>                                   </td><td>                                                                     </td><td>NS</td><td>Quartile 1</td><td> 5.97</td><td>Interdisciplinary</td><td>EXACTSRCTITLE(Conservation Biology) AND VOLUME(27) AND ISSUE(2)       </td></tr>\n",
       "</tbody>\n",
       "</table>\n"
      ],
      "text/latex": [
       "A data.table: 6 × 29\n",
       "\\begin{tabular}{lllllllllllllllllllll}\n",
       " scopus\\_id & eid & title & publication\\_name & issn & isbn & eissn & volume & issue & page\\_range & ... & auth\\_keywords & fund\\_acr & fund\\_no & fund\\_sponsor & full\\_text & Field & Quartile & CiteScore & Dataset & query\\\\\n",
       " <int64> & <chr> & <chr> & <chr> & <chr> & <lgl> & <chr> & <chr> & <chr> & <chr> & ... & <chr> & <chr> & <chr> & <chr> & <chr> & <chr> & <chr> & <dbl> & <chr> & <chr>\\\\\n",
       "\\hline\n",
       "\t 84889092764 & 2-s2.0-84889092764 & The social-ecological system framework as a knowledge classificatory system for benthic small-scale fisheries                                & Global Environmental Change         & 9593780  & NA &          & 23  & 6 & 1366-1380 & ... & Benthic small-scale fisheries \\textbar{} Chile \\textbar{} Human dimensions \\textbar{} Mexico \\textbar{} Social-ecological system (SES) framework                                                                                                &  & undefined & Duke University                     & https://api.elsevier.com/content/article/eid/1-s2.0-S0959378013001350 & NS & Quartile 1 & 10.29 & Interdisciplinary & EXACTSRCTITLE(Global Environmental Change) AND VOLUME(23) AND ISSUE(6)\\\\\n",
       "\t 84891884316 & 2-s2.0-84891884316 & Cooperative and noncooperative strategies for small-scale fisheries' self-governance in the globalization era: Implications for conservation & Ecology and Society                 &          & NA & 17083087 & 18  & 4 &           & ... & Commercialization \\textbar{} Fishing cooperatives \\textbar{} Gulf of California fisheries \\textbar{} Location and co-op choice \\textbar{} Resource stewardship \\textbar{} Self-governance \\textbar{} Small-scale fisheries                                        &  & undefined &                                     &                                                                       & NS & Quartile 1 &  4.81 & Interdisciplinary & EXACTSRCTITLE(Ecology and Society) AND VOLUME(18) AND ISSUE(4)        \\\\\n",
       "\t 84884713045 & 2-s2.0-84884713045 & How good science and stories can go hand-in-hand                                                                                             & Conservation Biology                & 8888892  & NA & 15231739 & 27  & 5 & 1126-1129 & ... &                                                                                                                                                                                                             &  & undefined & David and Lucile Packard Foundation &                                                                       & NS & Quartile 1 &  5.97 & Interdisciplinary & EXACTSRCTITLE(Conservation Biology) AND VOLUME(27) AND ISSUE(5)       \\\\\n",
       "\t 84878910274 & 2-s2.0-84878910274 & Evidence of market-driven size-selective fishing and the mediating effects of biological and institutional factors                           & Ecological Applications             & 10510761 & NA &          & 23  & 4 & 726-741   & ... & Coupled natural and human systems model \\textbar{} Coupled social-ecological systems \\textbar{} Ecosystem services \\textbar{} Fishing \\textbar{} Human behavior \\textbar{} Life history traits; population modeling \\textbar{} Selective harvest \\textbar{} Size selection &  & undefined &                                     &                                                                       & NS & Quartile 1 &  4.40 & Interdisciplinary & EXACTSRCTITLE(Ecological Applications) AND VOLUME(23) AND ISSUE(4)    \\\\\n",
       "\t 84873931007 & 2-s2.0-84873931007 & Long-term effectiveness of a multi-use marine protected area on reef fish assemblages and fisheries landings                                 & Journal of Environmental Management & 3014797  & NA & 10958630 & 117 &   & 276-283   & ... & Beyond-BACI analysis \\textbar{} Fisheries management \\textbar{} Gulf of California \\textbar{} Marine protected area \\textbar{} No-take areas \\textbar{} Reef fish assemblages                                                                            &  & undefined &                                     & https://api.elsevier.com/content/article/eid/1-s2.0-S0301479712006676 & NS & Quartile 1 &  5.32 & Interdisciplinary & EXACTSRCTITLE(Journal of Environmental Management) AND VOLUME(117)    \\\\\n",
       "\t 84875549052 & 2-s2.0-84875549052 & The Need for a Next Generation of Sonoran Desert Researchers                                                                                 & Conservation Biology                & 8888892  & NA & 15231739 & 27  & 2 & 243-245   & ... &                                                                                                                                                                                                             &  & undefined &                                     &                                                                       & NS & Quartile 1 &  5.97 & Interdisciplinary & EXACTSRCTITLE(Conservation Biology) AND VOLUME(27) AND ISSUE(2)       \\\\\n",
       "\\end{tabular}\n"
      ],
      "text/markdown": [
       "\n",
       "A data.table: 6 × 29\n",
       "\n",
       "| scopus_id &lt;int64&gt; | eid &lt;chr&gt; | title &lt;chr&gt; | publication_name &lt;chr&gt; | issn &lt;chr&gt; | isbn &lt;lgl&gt; | eissn &lt;chr&gt; | volume &lt;chr&gt; | issue &lt;chr&gt; | page_range &lt;chr&gt; | ... ... | auth_keywords &lt;chr&gt; | fund_acr &lt;chr&gt; | fund_no &lt;chr&gt; | fund_sponsor &lt;chr&gt; | full_text &lt;chr&gt; | Field &lt;chr&gt; | Quartile &lt;chr&gt; | CiteScore &lt;dbl&gt; | Dataset &lt;chr&gt; | query &lt;chr&gt; |\n",
       "|---|---|---|---|---|---|---|---|---|---|---|---|---|---|---|---|---|---|---|---|---|\n",
       "| 84889092764 | 2-s2.0-84889092764 | The social-ecological system framework as a knowledge classificatory system for benthic small-scale fisheries                                | Global Environmental Change         | 9593780  | NA | <!----> | 23  | 6 | 1366-1380 | ... | Benthic small-scale fisheries | Chile | Human dimensions | Mexico | Social-ecological system (SES) framework                                                                                                | <!----> | undefined | Duke University                     | https://api.elsevier.com/content/article/eid/1-s2.0-S0959378013001350 | NS | Quartile 1 | 10.29 | Interdisciplinary | EXACTSRCTITLE(Global Environmental Change) AND VOLUME(23) AND ISSUE(6) |\n",
       "| 84891884316 | 2-s2.0-84891884316 | Cooperative and noncooperative strategies for small-scale fisheries' self-governance in the globalization era: Implications for conservation | Ecology and Society                 | <!----> | NA | 17083087 | 18  | 4 | <!----> | ... | Commercialization | Fishing cooperatives | Gulf of California fisheries | Location and co-op choice | Resource stewardship | Self-governance | Small-scale fisheries                                        | <!----> | undefined | <!----> | <!----> | NS | Quartile 1 |  4.81 | Interdisciplinary | EXACTSRCTITLE(Ecology and Society) AND VOLUME(18) AND ISSUE(4)         |\n",
       "| 84884713045 | 2-s2.0-84884713045 | How good science and stories can go hand-in-hand                                                                                             | Conservation Biology                | 8888892  | NA | 15231739 | 27  | 5 | 1126-1129 | ... | <!----> | <!----> | undefined | David and Lucile Packard Foundation | <!----> | NS | Quartile 1 |  5.97 | Interdisciplinary | EXACTSRCTITLE(Conservation Biology) AND VOLUME(27) AND ISSUE(5)        |\n",
       "| 84878910274 | 2-s2.0-84878910274 | Evidence of market-driven size-selective fishing and the mediating effects of biological and institutional factors                           | Ecological Applications             | 10510761 | NA | <!----> | 23  | 4 | 726-741   | ... | Coupled natural and human systems model | Coupled social-ecological systems | Ecosystem services | Fishing | Human behavior | Life history traits; population modeling | Selective harvest | Size selection | <!----> | undefined | <!----> | <!----> | NS | Quartile 1 |  4.40 | Interdisciplinary | EXACTSRCTITLE(Ecological Applications) AND VOLUME(23) AND ISSUE(4)     |\n",
       "| 84873931007 | 2-s2.0-84873931007 | Long-term effectiveness of a multi-use marine protected area on reef fish assemblages and fisheries landings                                 | Journal of Environmental Management | 3014797  | NA | 10958630 | 117 | <!----> | 276-283   | ... | Beyond-BACI analysis | Fisheries management | Gulf of California | Marine protected area | No-take areas | Reef fish assemblages                                                                            | <!----> | undefined | <!----> | https://api.elsevier.com/content/article/eid/1-s2.0-S0301479712006676 | NS | Quartile 1 |  5.32 | Interdisciplinary | EXACTSRCTITLE(Journal of Environmental Management) AND VOLUME(117)     |\n",
       "| 84875549052 | 2-s2.0-84875549052 | The Need for a Next Generation of Sonoran Desert Researchers                                                                                 | Conservation Biology                | 8888892  | NA | 15231739 | 27  | 2 | 243-245   | ... | <!----> | <!----> | undefined | <!----> | <!----> | NS | Quartile 1 |  5.97 | Interdisciplinary | EXACTSRCTITLE(Conservation Biology) AND VOLUME(27) AND ISSUE(2)        |\n",
       "\n"
      ],
      "text/plain": [
       "  scopus_id   eid               \n",
       "1 84889092764 2-s2.0-84889092764\n",
       "2 84891884316 2-s2.0-84891884316\n",
       "3 84884713045 2-s2.0-84884713045\n",
       "4 84878910274 2-s2.0-84878910274\n",
       "5 84873931007 2-s2.0-84873931007\n",
       "6 84875549052 2-s2.0-84875549052\n",
       "  title                                                                                                                                       \n",
       "1 The social-ecological system framework as a knowledge classificatory system for benthic small-scale fisheries                               \n",
       "2 Cooperative and noncooperative strategies for small-scale fisheries' self-governance in the globalization era: Implications for conservation\n",
       "3 How good science and stories can go hand-in-hand                                                                                            \n",
       "4 Evidence of market-driven size-selective fishing and the mediating effects of biological and institutional factors                          \n",
       "5 Long-term effectiveness of a multi-use marine protected area on reef fish assemblages and fisheries landings                                \n",
       "6 The Need for a Next Generation of Sonoran Desert Researchers                                                                                \n",
       "  publication_name                    issn     isbn eissn    volume issue\n",
       "1 Global Environmental Change         9593780  NA            23     6    \n",
       "2 Ecology and Society                          NA   17083087 18     4    \n",
       "3 Conservation Biology                8888892  NA   15231739 27     5    \n",
       "4 Ecological Applications             10510761 NA            23     4    \n",
       "5 Journal of Environmental Management 3014797  NA   10958630 117         \n",
       "6 Conservation Biology                8888892  NA   15231739 27     2    \n",
       "  page_range ...\n",
       "1 1366-1380  ...\n",
       "2            ...\n",
       "3 1126-1129  ...\n",
       "4 726-741    ...\n",
       "5 276-283    ...\n",
       "6 243-245    ...\n",
       "  auth_keywords                                                                                                                                                                                              \n",
       "1 Benthic small-scale fisheries | Chile | Human dimensions | Mexico | Social-ecological system (SES) framework                                                                                               \n",
       "2 Commercialization | Fishing cooperatives | Gulf of California fisheries | Location and co-op choice | Resource stewardship | Self-governance | Small-scale fisheries                                       \n",
       "3                                                                                                                                                                                                            \n",
       "4 Coupled natural and human systems model | Coupled social-ecological systems | Ecosystem services | Fishing | Human behavior | Life history traits; population modeling | Selective harvest | Size selection\n",
       "5 Beyond-BACI analysis | Fisheries management | Gulf of California | Marine protected area | No-take areas | Reef fish assemblages                                                                           \n",
       "6                                                                                                                                                                                                            \n",
       "  fund_acr fund_no   fund_sponsor                       \n",
       "1          undefined Duke University                    \n",
       "2          undefined                                    \n",
       "3          undefined David and Lucile Packard Foundation\n",
       "4          undefined                                    \n",
       "5          undefined                                    \n",
       "6          undefined                                    \n",
       "  full_text                                                             Field\n",
       "1 https://api.elsevier.com/content/article/eid/1-s2.0-S0959378013001350 NS   \n",
       "2                                                                       NS   \n",
       "3                                                                       NS   \n",
       "4                                                                       NS   \n",
       "5 https://api.elsevier.com/content/article/eid/1-s2.0-S0301479712006676 NS   \n",
       "6                                                                       NS   \n",
       "  Quartile   CiteScore Dataset          \n",
       "1 Quartile 1 10.29     Interdisciplinary\n",
       "2 Quartile 1  4.81     Interdisciplinary\n",
       "3 Quartile 1  5.97     Interdisciplinary\n",
       "4 Quartile 1  4.40     Interdisciplinary\n",
       "5 Quartile 1  5.32     Interdisciplinary\n",
       "6 Quartile 1  5.97     Interdisciplinary\n",
       "  query                                                                 \n",
       "1 EXACTSRCTITLE(Global Environmental Change) AND VOLUME(23) AND ISSUE(6)\n",
       "2 EXACTSRCTITLE(Ecology and Society) AND VOLUME(18) AND ISSUE(4)        \n",
       "3 EXACTSRCTITLE(Conservation Biology) AND VOLUME(27) AND ISSUE(5)       \n",
       "4 EXACTSRCTITLE(Ecological Applications) AND VOLUME(23) AND ISSUE(4)    \n",
       "5 EXACTSRCTITLE(Journal of Environmental Management) AND VOLUME(117)    \n",
       "6 EXACTSRCTITLE(Conservation Biology) AND VOLUME(27) AND ISSUE(2)       "
      ]
     },
     "metadata": {},
     "output_type": "display_data"
    }
   ],
   "source": [
    "full_data = rbind(pubs[,c(-25,-30)], comp)\n",
    "head(full_data)"
   ]
  },
  {
   "cell_type": "markdown",
   "metadata": {},
   "source": [
    "## Normalize citation count by journal issue"
   ]
  },
  {
   "cell_type": "code",
   "execution_count": 4,
   "metadata": {},
   "outputs": [],
   "source": [
    "keep = c(\"eid\", \"citation_count\", \"query\", \"Field\", \"Quartile\")\n",
    "normed = full_data[, ..keep] %>%\n",
    "  group_by(query) %>%\n",
    "  mutate(z.mean = mean(citation_count), z.sd = sd(citation_count), std = scale(citation_count))\n",
    "normed$std = ifelse(is.na(normed$std), normed$citation_count, normed$std)\n",
    "normed = normed[normed$eid %in% pubs$eid,]"
   ]
  },
  {
   "cell_type": "markdown",
   "metadata": {},
   "source": [
    "## Statistics"
   ]
  },
  {
   "cell_type": "code",
   "execution_count": 5,
   "metadata": {},
   "outputs": [
    {
     "name": "stdout",
     "output_type": "stream",
     "text": [
      "[1] \"mean\"\n"
     ]
    },
    {
     "data": {
      "text/html": [
       "3.65081955416044"
      ],
      "text/latex": [
       "3.65081955416044"
      ],
      "text/markdown": [
       "3.65081955416044"
      ],
      "text/plain": [
       "[1] 3.65082"
      ]
     },
     "metadata": {},
     "output_type": "display_data"
    },
    {
     "name": "stdout",
     "output_type": "stream",
     "text": [
      "[1] \"median\"\n"
     ]
    },
    {
     "data": {
      "text/html": [
       "0.173775675747521"
      ],
      "text/latex": [
       "0.173775675747521"
      ],
      "text/markdown": [
       "0.173775675747521"
      ],
      "text/plain": [
       "[1] 0.1737757"
      ]
     },
     "metadata": {},
     "output_type": "display_data"
    },
    {
     "data": {
      "text/html": [
       "0.707106781186548"
      ],
      "text/latex": [
       "0.707106781186548"
      ],
      "text/markdown": [
       "0.707106781186548"
      ],
      "text/plain": [
       "[1] 0.7071068"
      ]
     },
     "metadata": {},
     "output_type": "display_data"
    },
    {
     "data": {
      "text/html": [
       "<style>\n",
       ".list-inline {list-style: none; margin:0; padding: 0}\n",
       ".list-inline>li {display: inline-block}\n",
       ".list-inline>li:not(:last-child)::after {content: \"\\00b7\"; padding: 0 .5ex}\n",
       "</style>\n",
       "<ol class=list-inline><li>3.92058505545875</li><li>-0.403955027491434</li><li>0.711453958760692</li><li>-0.0308240712854602</li><li>26</li><li>0.405616141339722</li><li>153</li></ol>\n"
      ],
      "text/latex": [
       "\\begin{enumerate*}\n",
       "\\item 3.92058505545875\n",
       "\\item -0.403955027491434\n",
       "\\item 0.711453958760692\n",
       "\\item -0.0308240712854602\n",
       "\\item 26\n",
       "\\item 0.405616141339722\n",
       "\\item 153\n",
       "\\end{enumerate*}\n"
      ],
      "text/markdown": [
       "1. 3.92058505545875\n",
       "2. -0.403955027491434\n",
       "3. 0.711453958760692\n",
       "4. -0.0308240712854602\n",
       "5. 26\n",
       "6. 0.405616141339722\n",
       "7. 153\n",
       "\n",
       "\n"
      ],
      "text/plain": [
       "[1]   3.92058506  -0.40395503   0.71145396  -0.03082407  26.00000000\n",
       "[6]   0.40561614 153.00000000"
      ]
     },
     "metadata": {},
     "output_type": "display_data"
    },
    {
     "name": "stdout",
     "output_type": "stream",
     "text": [
      "[1] \"mode\"\n"
     ]
    },
    {
     "data": {
      "text/html": [
       "0.707106781186548"
      ],
      "text/latex": [
       "0.707106781186548"
      ],
      "text/markdown": [
       "0.707106781186548"
      ],
      "text/plain": [
       "[1] 0.7071068"
      ]
     },
     "metadata": {},
     "output_type": "display_data"
    },
    {
     "data": {
      "image/png": "[encoded data removed]",
      "text/plain": [
       "plot without title"
      ]
     },
     "metadata": {},
     "output_type": "display_data"
    }
   ],
   "source": [
    "tmp.data <- normed %>%\n",
    "  mutate(std.pile = ifelse(std > 10, 10, std))\n",
    "  #filter(Quartile == \"Quartile 1\")\n",
    "gghistogram(data = tmp.data, x = \"std.pile\",\n",
    "            binwidth = 0.5,\n",
    "            fill = \"blue\",\n",
    "            xlab = \"Z-tranform of Citations\"\n",
    "            #add = \"mean\"\n",
    "            ) \n",
    "  #+xscale(\"log2\", .format = TRUE)\n",
    "\n",
    "print('mean')\n",
    "mean(normed$std)\n",
    "print('median')\n",
    "median(normed$std)\n",
    "\n",
    "unique(normed$std)[which.max(tabulate(match(normed$std, unique(normed$std))))]\n",
    "unique(normed$std)[349:355]\n",
    "\n",
    "getmode <- function(v) {\n",
    "   uniqv <- unique(v)\n",
    "   uniqv[which.max(tabulate(match(v, uniqv)))]\n",
    "}\n",
    "print('mode')\n",
    "getmode(normed$std)"
   ]
  },
  {
   "cell_type": "markdown",
   "metadata": {},
   "source": [
    "## Histogram normalized data"
   ]
  },
  {
   "cell_type": "code",
   "execution_count": 6,
   "metadata": {
    "scrolled": false
   },
   "outputs": [
    {
     "data": {
      "image/png": "[encoded data removed]",
      "text/plain": [
       "plot without title"
      ]
     },
     "metadata": {},
     "output_type": "display_data"
    },
    {
     "data": {
      "image/png": "[encoded data removed]",
      "text/plain": [
       "plot without title"
      ]
     },
     "metadata": {},
     "output_type": "display_data"
    }
   ],
   "source": [
    "tmp.data <- normed %>%\n",
    "  mutate(std.pile = ifelse(std > 10, 10, std)) %>%\n",
    "  filter(Field != \"Other\")\n",
    "gghistogram(data = tmp.data, x = \"std.pile\",\n",
    "            binwidth = 0.5,\n",
    "            color = \"Field\", fill = \"Field\",\n",
    "            xlab = \"Z-tranform of Citations\",\n",
    "            add = \"mean\"\n",
    "            ) #+\n",
    " #yscale(\"log2\", .format = TRUE)\n",
    "\n",
    "\n",
    "tmp.data <- normed %>%\n",
    "  mutate(std.pile = ifelse(std > 10, 10, std)) %>%\n",
    "  filter(Field == \"NS\")\n",
    "ns.hist <- gghistogram(data = tmp.data, x = \"std.pile\",\n",
    "            binwidth = 0.5,\n",
    "            #color = \"blue\", \n",
    "            fill = \"Quartile\",\n",
    "            xlab = \"Z-tranform of Citations, Natural Science\"\n",
    "           # add = \"mean\"\n",
    "            )\n",
    "tmp.data <- normed %>%\n",
    "  mutate(std.pile = ifelse(std > 10, 10, std)) %>%\n",
    "  filter(Field == \"GI\")%>%\n",
    "  filter(Quartile != \"Missing\")\n",
    "gi.hist <- gghistogram(data = tmp.data, x = \"std.pile\",\n",
    "            binwidth = 0.5,\n",
    "            #color = \"blue\", \n",
    "            fill = \"Quartile\",\n",
    "            xlab = \"Z-tranform of Citations, General Interest\"\n",
    "           # add = \"mean\"\n",
    "            )\n",
    "tmp.data <- normed %>%\n",
    "  mutate(std.pile = ifelse(std > 10, 10, std)) %>%\n",
    "  filter(Field == \"EC\")\n",
    "ec.hist <- gghistogram(data = tmp.data, x = \"std.pile\",\n",
    "            binwidth = 0.5,\n",
    "            #color = \"blue\", \n",
    "            fill = \"Quartile\",\n",
    "            xlab = \"Z-tranform of Citations, Economics\"\n",
    "           # add = \"mean\"\n",
    "            )\n",
    "tmp.data <- normed %>%\n",
    "  mutate(std.pile = ifelse(std > 10, 10, std)) %>%\n",
    "  filter(Field == \"Other\")\n",
    "o.hist <- gghistogram(data = tmp.data, x = \"std.pile\",\n",
    "            binwidth = 0.5,\n",
    "            #color = \"blue\", \n",
    "            fill = \"Quartile\",\n",
    "            xlab = \"Z-tranform of Citations, Other\"\n",
    "           # add = \"mean\"\n",
    "            )\n",
    "\n",
    "plot_grid(ns.hist, gi.hist, ec.hist, o.hist)"
   ]
  },
  {
   "cell_type": "markdown",
   "metadata": {},
   "source": [
    "## Citations in-depth: Intra- and Cross-Disciplinary\n",
    "------------------------------------------------------------------------------------\n",
    "Tables in order:\n",
    "1. Fields summary\n",
    "2. Total and average citation by field\n",
    "3. Count and percentage of cited-by articles by type\n",
    "4. Count and percentage of cited-by articles by field\n",
    "5. Count cross-/intra-disciplinary citations per award (only interdisciplinary set)"
   ]
  },
  {
   "cell_type": "markdown",
   "metadata": {},
   "source": [
    "### Interdiscplinary set"
   ]
  },
  {
   "cell_type": "markdown",
   "metadata": {},
   "source": [
    "Fields Summary"
   ]
  },
  {
   "cell_type": "code",
   "execution_count": 7,
   "metadata": {},
   "outputs": [
    {
     "name": "stderr",
     "output_type": "stream",
     "text": [
      "`summarise()` ungrouping output (override with `.groups` argument)\n"
     ]
    },
    {
     "data": {
      "text/html": [
       "<table>\n",
       "<caption>A tibble: 4 × 3</caption>\n",
       "<thead>\n",
       "\t<tr><th scope=col>Field</th><th scope=col>count</th><th scope=col>percent</th></tr>\n",
       "\t<tr><th scope=col>&lt;chr&gt;</th><th scope=col>&lt;int&gt;</th><th scope=col>&lt;chr&gt;</th></tr>\n",
       "</thead>\n",
       "<tbody>\n",
       "\t<tr><td>EC   </td><td>  75</td><td>3.0% </td></tr>\n",
       "\t<tr><td>GI   </td><td> 173</td><td>6.9% </td></tr>\n",
       "\t<tr><td>NS   </td><td>2014</td><td>80.2%</td></tr>\n",
       "\t<tr><td>Other</td><td> 248</td><td>9.9% </td></tr>\n",
       "</tbody>\n",
       "</table>\n"
      ],
      "text/latex": [
       "A tibble: 4 × 3\n",
       "\\begin{tabular}{lll}\n",
       " Field & count & percent\\\\\n",
       " <chr> & <int> & <chr>\\\\\n",
       "\\hline\n",
       "\t EC    &   75 & 3.0\\% \\\\\n",
       "\t GI    &  173 & 6.9\\% \\\\\n",
       "\t NS    & 2014 & 80.2\\%\\\\\n",
       "\t Other &  248 & 9.9\\% \\\\\n",
       "\\end{tabular}\n"
      ],
      "text/markdown": [
       "\n",
       "A tibble: 4 × 3\n",
       "\n",
       "| Field &lt;chr&gt; | count &lt;int&gt; | percent &lt;chr&gt; |\n",
       "|---|---|---|\n",
       "| EC    |   75 | 3.0%  |\n",
       "| GI    |  173 | 6.9%  |\n",
       "| NS    | 2014 | 80.2% |\n",
       "| Other |  248 | 9.9%  |\n",
       "\n"
      ],
      "text/plain": [
       "  Field count percent\n",
       "1 EC      75  3.0%   \n",
       "2 GI     173  6.9%   \n",
       "3 NS    2014  80.2%  \n",
       "4 Other  248  9.9%   "
      ]
     },
     "metadata": {},
     "output_type": "display_data"
    }
   ],
   "source": [
    "pubs %>% group_by(Field) %>% \n",
    "  summarise(count = n()) %>%\n",
    "  mutate(percent = percent(count/sum(count)))"
   ]
  },
  {
   "cell_type": "markdown",
   "metadata": {},
   "source": [
    "Total and average citation by field"
   ]
  },
  {
   "cell_type": "code",
   "execution_count": 8,
   "metadata": {},
   "outputs": [
    {
     "name": "stderr",
     "output_type": "stream",
     "text": [
      "`summarise()` ungrouping output (override with `.groups` argument)\n"
     ]
    },
    {
     "data": {
      "text/html": [
       "<table>\n",
       "<caption>A tibble: 4 × 4</caption>\n",
       "<thead>\n",
       "\t<tr><th scope=col>Field</th><th scope=col>avg_CiteScore</th><th scope=col>total_citations</th><th scope=col>mean</th></tr>\n",
       "\t<tr><th scope=col>&lt;chr&gt;</th><th scope=col>&lt;dbl&gt;</th><th scope=col>&lt;int&gt;</th><th scope=col>&lt;dbl&gt;</th></tr>\n",
       "</thead>\n",
       "<tbody>\n",
       "\t<tr><td>EC   </td><td> 3.467467</td><td>  2601</td><td> 34.68000</td></tr>\n",
       "\t<tr><td>GI   </td><td>12.259075</td><td> 47048</td><td>271.95376</td></tr>\n",
       "\t<tr><td>NS   </td><td> 4.315000</td><td>130605</td><td> 64.84856</td></tr>\n",
       "\t<tr><td>Other</td><td> 2.504758</td><td>  7488</td><td> 30.19355</td></tr>\n",
       "</tbody>\n",
       "</table>\n"
      ],
      "text/latex": [
       "A tibble: 4 × 4\n",
       "\\begin{tabular}{llll}\n",
       " Field & avg\\_CiteScore & total\\_citations & mean\\\\\n",
       " <chr> & <dbl> & <int> & <dbl>\\\\\n",
       "\\hline\n",
       "\t EC    &  3.467467 &   2601 &  34.68000\\\\\n",
       "\t GI    & 12.259075 &  47048 & 271.95376\\\\\n",
       "\t NS    &  4.315000 & 130605 &  64.84856\\\\\n",
       "\t Other &  2.504758 &   7488 &  30.19355\\\\\n",
       "\\end{tabular}\n"
      ],
      "text/markdown": [
       "\n",
       "A tibble: 4 × 4\n",
       "\n",
       "| Field &lt;chr&gt; | avg_CiteScore &lt;dbl&gt; | total_citations &lt;int&gt; | mean &lt;dbl&gt; |\n",
       "|---|---|---|---|\n",
       "| EC    |  3.467467 |   2601 |  34.68000 |\n",
       "| GI    | 12.259075 |  47048 | 271.95376 |\n",
       "| NS    |  4.315000 | 130605 |  64.84856 |\n",
       "| Other |  2.504758 |   7488 |  30.19355 |\n",
       "\n"
      ],
      "text/plain": [
       "  Field avg_CiteScore total_citations mean     \n",
       "1 EC     3.467467       2601           34.68000\n",
       "2 GI    12.259075      47048          271.95376\n",
       "3 NS     4.315000     130605           64.84856\n",
       "4 Other  2.504758       7488           30.19355"
      ]
     },
     "metadata": {},
     "output_type": "display_data"
    }
   ],
   "source": [
    "pubs %>% group_by(Field) %>%\n",
    "  summarise(avg_CiteScore = mean(CiteScore), total_citations = sum(citation_count), mean = mean(citation_count))"
   ]
  },
  {
   "cell_type": "markdown",
   "metadata": {},
   "source": [
    "Count and percentage of cited-by articles by type"
   ]
  },
  {
   "cell_type": "code",
   "execution_count": 9,
   "metadata": {},
   "outputs": [
    {
     "name": "stderr",
     "output_type": "stream",
     "text": [
      "`summarise()` regrouping output by 'Field' (override with `.groups` argument)\n"
     ]
    },
    {
     "data": {
      "text/html": [
       "<table>\n",
       "<caption>A grouped_df: 8 × 4</caption>\n",
       "<thead>\n",
       "\t<tr><th scope=col>Field</th><th scope=col>CrossIntra</th><th scope=col>count</th><th scope=col>percent</th></tr>\n",
       "\t<tr><th scope=col>&lt;chr&gt;</th><th scope=col>&lt;chr&gt;</th><th scope=col>&lt;int&gt;</th><th scope=col>&lt;chr&gt;</th></tr>\n",
       "</thead>\n",
       "<tbody>\n",
       "\t<tr><td>EC   </td><td>Cross</td><td>  3977</td><td>2.42% </td></tr>\n",
       "\t<tr><td>EC   </td><td>Intra</td><td>   688</td><td>0.42% </td></tr>\n",
       "\t<tr><td>GI   </td><td>Cross</td><td>  1777</td><td>1.079%</td></tr>\n",
       "\t<tr><td>GI   </td><td>Intra</td><td>  1366</td><td>0.830%</td></tr>\n",
       "\t<tr><td>NS   </td><td>Cross</td><td> 38359</td><td>23.3% </td></tr>\n",
       "\t<tr><td>NS   </td><td>Intra</td><td>102717</td><td>62.4% </td></tr>\n",
       "\t<tr><td>Other</td><td>Cross</td><td> 13514</td><td>8.21% </td></tr>\n",
       "\t<tr><td>Other</td><td>Intra</td><td>  2216</td><td>1.35% </td></tr>\n",
       "</tbody>\n",
       "</table>\n"
      ],
      "text/latex": [
       "A grouped\\_df: 8 × 4\n",
       "\\begin{tabular}{llll}\n",
       " Field & CrossIntra & count & percent\\\\\n",
       " <chr> & <chr> & <int> & <chr>\\\\\n",
       "\\hline\n",
       "\t EC    & Cross &   3977 & 2.42\\% \\\\\n",
       "\t EC    & Intra &    688 & 0.42\\% \\\\\n",
       "\t GI    & Cross &   1777 & 1.079\\%\\\\\n",
       "\t GI    & Intra &   1366 & 0.830\\%\\\\\n",
       "\t NS    & Cross &  38359 & 23.3\\% \\\\\n",
       "\t NS    & Intra & 102717 & 62.4\\% \\\\\n",
       "\t Other & Cross &  13514 & 8.21\\% \\\\\n",
       "\t Other & Intra &   2216 & 1.35\\% \\\\\n",
       "\\end{tabular}\n"
      ],
      "text/markdown": [
       "\n",
       "A grouped_df: 8 × 4\n",
       "\n",
       "| Field &lt;chr&gt; | CrossIntra &lt;chr&gt; | count &lt;int&gt; | percent &lt;chr&gt; |\n",
       "|---|---|---|---|\n",
       "| EC    | Cross |   3977 | 2.42%  |\n",
       "| EC    | Intra |    688 | 0.42%  |\n",
       "| GI    | Cross |   1777 | 1.079% |\n",
       "| GI    | Intra |   1366 | 0.830% |\n",
       "| NS    | Cross |  38359 | 23.3%  |\n",
       "| NS    | Intra | 102717 | 62.4%  |\n",
       "| Other | Cross |  13514 | 8.21%  |\n",
       "| Other | Intra |   2216 | 1.35%  |\n",
       "\n"
      ],
      "text/plain": [
       "  Field CrossIntra count  percent\n",
       "1 EC    Cross        3977 2.42%  \n",
       "2 EC    Intra         688 0.42%  \n",
       "3 GI    Cross        1777 1.079% \n",
       "4 GI    Intra        1366 0.830% \n",
       "5 NS    Cross       38359 23.3%  \n",
       "6 NS    Intra      102717 62.4%  \n",
       "7 Other Cross       13514 8.21%  \n",
       "8 Other Intra        2216 1.35%  "
      ]
     },
     "metadata": {},
     "output_type": "display_data"
    }
   ],
   "source": [
    "pubs_cited %>% group_by(Field, CrossIntra) %>%\n",
    "  summarise(count = n()) %>% \n",
    "  mutate(percent = percent(count/nrow(pubs_cited)))"
   ]
  },
  {
   "cell_type": "markdown",
   "metadata": {},
   "source": [
    "Count and percentage of cited-by articles by field"
   ]
  },
  {
   "cell_type": "code",
   "execution_count": 10,
   "metadata": {},
   "outputs": [
    {
     "name": "stderr",
     "output_type": "stream",
     "text": [
      "`summarise()` regrouping output by 'Source' (override with `.groups` argument)\n"
     ]
    },
    {
     "data": {
      "text/html": [
       "<table>\n",
       "<caption>A grouped_df: 16 × 4</caption>\n",
       "<thead>\n",
       "\t<tr><th scope=col>Source</th><th scope=col>Field</th><th scope=col>count</th><th scope=col>percentage</th></tr>\n",
       "\t<tr><th scope=col>&lt;chr&gt;</th><th scope=col>&lt;chr&gt;</th><th scope=col>&lt;int&gt;</th><th scope=col>&lt;chr&gt;</th></tr>\n",
       "</thead>\n",
       "<tbody>\n",
       "\t<tr><td>EC   </td><td>EC   </td><td>   688</td><td>24.5%</td></tr>\n",
       "\t<tr><td>EC   </td><td>GI   </td><td>    57</td><td>2.0% </td></tr>\n",
       "\t<tr><td>EC   </td><td>NS   </td><td>  1648</td><td>58.8%</td></tr>\n",
       "\t<tr><td>EC   </td><td>Other</td><td>   412</td><td>14.7%</td></tr>\n",
       "\t<tr><td>GI   </td><td>EC   </td><td>  1621</td><td>4.1% </td></tr>\n",
       "\t<tr><td>GI   </td><td>GI   </td><td>  1366</td><td>3.4% </td></tr>\n",
       "\t<tr><td>GI   </td><td>NS   </td><td> 33115</td><td>82.8%</td></tr>\n",
       "\t<tr><td>GI   </td><td>Other</td><td>  3887</td><td>9.7% </td></tr>\n",
       "\t<tr><td>NS   </td><td>EC   </td><td>  2015</td><td>1.7% </td></tr>\n",
       "\t<tr><td>NS   </td><td>GI   </td><td>  1632</td><td>1.4% </td></tr>\n",
       "\t<tr><td>NS   </td><td>NS   </td><td>102717</td><td>88.9%</td></tr>\n",
       "\t<tr><td>NS   </td><td>Other</td><td>  9215</td><td>8.0% </td></tr>\n",
       "\t<tr><td>Other</td><td>EC   </td><td>   341</td><td>5.5% </td></tr>\n",
       "\t<tr><td>Other</td><td>GI   </td><td>    88</td><td>1.4% </td></tr>\n",
       "\t<tr><td>Other</td><td>NS   </td><td>  3596</td><td>57.6%</td></tr>\n",
       "\t<tr><td>Other</td><td>Other</td><td>  2216</td><td>35.5%</td></tr>\n",
       "</tbody>\n",
       "</table>\n"
      ],
      "text/latex": [
       "A grouped\\_df: 16 × 4\n",
       "\\begin{tabular}{llll}\n",
       " Source & Field & count & percentage\\\\\n",
       " <chr> & <chr> & <int> & <chr>\\\\\n",
       "\\hline\n",
       "\t EC    & EC    &    688 & 24.5\\%\\\\\n",
       "\t EC    & GI    &     57 & 2.0\\% \\\\\n",
       "\t EC    & NS    &   1648 & 58.8\\%\\\\\n",
       "\t EC    & Other &    412 & 14.7\\%\\\\\n",
       "\t GI    & EC    &   1621 & 4.1\\% \\\\\n",
       "\t GI    & GI    &   1366 & 3.4\\% \\\\\n",
       "\t GI    & NS    &  33115 & 82.8\\%\\\\\n",
       "\t GI    & Other &   3887 & 9.7\\% \\\\\n",
       "\t NS    & EC    &   2015 & 1.7\\% \\\\\n",
       "\t NS    & GI    &   1632 & 1.4\\% \\\\\n",
       "\t NS    & NS    & 102717 & 88.9\\%\\\\\n",
       "\t NS    & Other &   9215 & 8.0\\% \\\\\n",
       "\t Other & EC    &    341 & 5.5\\% \\\\\n",
       "\t Other & GI    &     88 & 1.4\\% \\\\\n",
       "\t Other & NS    &   3596 & 57.6\\%\\\\\n",
       "\t Other & Other &   2216 & 35.5\\%\\\\\n",
       "\\end{tabular}\n"
      ],
      "text/markdown": [
       "\n",
       "A grouped_df: 16 × 4\n",
       "\n",
       "| Source &lt;chr&gt; | Field &lt;chr&gt; | count &lt;int&gt; | percentage &lt;chr&gt; |\n",
       "|---|---|---|---|\n",
       "| EC    | EC    |    688 | 24.5% |\n",
       "| EC    | GI    |     57 | 2.0%  |\n",
       "| EC    | NS    |   1648 | 58.8% |\n",
       "| EC    | Other |    412 | 14.7% |\n",
       "| GI    | EC    |   1621 | 4.1%  |\n",
       "| GI    | GI    |   1366 | 3.4%  |\n",
       "| GI    | NS    |  33115 | 82.8% |\n",
       "| GI    | Other |   3887 | 9.7%  |\n",
       "| NS    | EC    |   2015 | 1.7%  |\n",
       "| NS    | GI    |   1632 | 1.4%  |\n",
       "| NS    | NS    | 102717 | 88.9% |\n",
       "| NS    | Other |   9215 | 8.0%  |\n",
       "| Other | EC    |    341 | 5.5%  |\n",
       "| Other | GI    |     88 | 1.4%  |\n",
       "| Other | NS    |   3596 | 57.6% |\n",
       "| Other | Other |   2216 | 35.5% |\n",
       "\n"
      ],
      "text/plain": [
       "   Source Field count  percentage\n",
       "1  EC     EC       688 24.5%     \n",
       "2  EC     GI        57 2.0%      \n",
       "3  EC     NS      1648 58.8%     \n",
       "4  EC     Other    412 14.7%     \n",
       "5  GI     EC      1621 4.1%      \n",
       "6  GI     GI      1366 3.4%      \n",
       "7  GI     NS     33115 82.8%     \n",
       "8  GI     Other   3887 9.7%      \n",
       "9  NS     EC      2015 1.7%      \n",
       "10 NS     GI      1632 1.4%      \n",
       "11 NS     NS    102717 88.9%     \n",
       "12 NS     Other   9215 8.0%      \n",
       "13 Other  EC       341 5.5%      \n",
       "14 Other  GI        88 1.4%      \n",
       "15 Other  NS      3596 57.6%     \n",
       "16 Other  Other   2216 35.5%     "
      ]
     },
     "metadata": {},
     "output_type": "display_data"
    }
   ],
   "source": [
    "pubs_cited %>% group_by(Field, Source) %>%\n",
    "  summarize(count = n()) %>%\n",
    "  mutate(percentage = percent(count/sum(count)))"
   ]
  },
  {
   "cell_type": "markdown",
   "metadata": {},
   "source": [
    "Count cross-/intra-disciplinary citations per award"
   ]
  },
  {
   "cell_type": "code",
   "execution_count": 11,
   "metadata": {},
   "outputs": [
    {
     "name": "stderr",
     "output_type": "stream",
     "text": [
      "`summarise()` regrouping output by 'award_id', 'Source' (override with `.groups` argument)\n"
     ]
    },
    {
     "name": "stdout",
     "output_type": "stream",
     "text": [
      "EC Cross 74.0% \n",
      "EC Intra 29.4% \n",
      "GI Cross 96.5% \n",
      "GI Intra 3.85% \n",
      "NS Cross 14.6% \n",
      "NS Intra 85.8% \n",
      "Other Cross 69.4% \n",
      "Other Intra 33.7% \n"
     ]
    }
   ],
   "source": [
    "peraward = pubs_cited %>% group_by(award_id, Source, CrossIntra) %>%  \n",
    "  summarize(percentage = n()) %>%\n",
    "  mutate(percentage = percentage/sum(percentage))\n",
    "for (source in c(\"EC\", \"GI\", \"NS\", \"Other\")) {\n",
    "  for (type in c(\"Cross\", \"Intra\")) {\n",
    "    cat(source, type,\n",
    "        percent(mean(peraward[peraward$Source == source & peraward$CrossIntra == type,]$percentage)),\n",
    "        \"\\n\")\n",
    "  }\n",
    "}"
   ]
  },
  {
   "cell_type": "markdown",
   "metadata": {},
   "source": [
    "### Comparator Set"
   ]
  },
  {
   "cell_type": "markdown",
   "metadata": {},
   "source": [
    "Fields Summary"
   ]
  },
  {
   "cell_type": "code",
   "execution_count": 12,
   "metadata": {},
   "outputs": [
    {
     "name": "stderr",
     "output_type": "stream",
     "text": [
      "`summarise()` ungrouping output (override with `.groups` argument)\n"
     ]
    },
    {
     "data": {
      "text/html": [
       "<table>\n",
       "<caption>A tibble: 4 × 3</caption>\n",
       "<thead>\n",
       "\t<tr><th scope=col>Field</th><th scope=col>count</th><th scope=col>percent</th></tr>\n",
       "\t<tr><th scope=col>&lt;chr&gt;</th><th scope=col>&lt;int&gt;</th><th scope=col>&lt;chr&gt;</th></tr>\n",
       "</thead>\n",
       "<tbody>\n",
       "\t<tr><td>EC   </td><td> 1190</td><td>1.0% </td></tr>\n",
       "\t<tr><td>GI   </td><td> 9444</td><td>7.7% </td></tr>\n",
       "\t<tr><td>NS   </td><td>51617</td><td>42.1%</td></tr>\n",
       "\t<tr><td>Other</td><td>60400</td><td>49.2%</td></tr>\n",
       "</tbody>\n",
       "</table>\n"
      ],
      "text/latex": [
       "A tibble: 4 × 3\n",
       "\\begin{tabular}{lll}\n",
       " Field & count & percent\\\\\n",
       " <chr> & <int> & <chr>\\\\\n",
       "\\hline\n",
       "\t EC    &  1190 & 1.0\\% \\\\\n",
       "\t GI    &  9444 & 7.7\\% \\\\\n",
       "\t NS    & 51617 & 42.1\\%\\\\\n",
       "\t Other & 60400 & 49.2\\%\\\\\n",
       "\\end{tabular}\n"
      ],
      "text/markdown": [
       "\n",
       "A tibble: 4 × 3\n",
       "\n",
       "| Field &lt;chr&gt; | count &lt;int&gt; | percent &lt;chr&gt; |\n",
       "|---|---|---|\n",
       "| EC    |  1190 | 1.0%  |\n",
       "| GI    |  9444 | 7.7%  |\n",
       "| NS    | 51617 | 42.1% |\n",
       "| Other | 60400 | 49.2% |\n",
       "\n"
      ],
      "text/plain": [
       "  Field count percent\n",
       "1 EC     1190 1.0%   \n",
       "2 GI     9444 7.7%   \n",
       "3 NS    51617 42.1%  \n",
       "4 Other 60400 49.2%  "
      ]
     },
     "metadata": {},
     "output_type": "display_data"
    }
   ],
   "source": [
    "comp %>% group_by(Field) %>% \n",
    "  summarise(count = n()) %>%\n",
    "  mutate(percent = percent(count/sum(count)))"
   ]
  },
  {
   "cell_type": "markdown",
   "metadata": {},
   "source": [
    "Total and average citation by field"
   ]
  },
  {
   "cell_type": "code",
   "execution_count": 13,
   "metadata": {},
   "outputs": [
    {
     "name": "stderr",
     "output_type": "stream",
     "text": [
      "`summarise()` ungrouping output (override with `.groups` argument)\n"
     ]
    },
    {
     "data": {
      "text/html": [
       "<table>\n",
       "<caption>A tibble: 4 × 4</caption>\n",
       "<thead>\n",
       "\t<tr><th scope=col>Field</th><th scope=col>avg_CiteScore</th><th scope=col>total_citations</th><th scope=col>mean</th></tr>\n",
       "\t<tr><th scope=col>&lt;chr&gt;</th><th scope=col>&lt;dbl&gt;</th><th scope=col>&lt;int&gt;</th><th scope=col>&lt;dbl&gt;</th></tr>\n",
       "</thead>\n",
       "<tbody>\n",
       "\t<tr><td>EC   </td><td> 4.554681</td><td>  30862</td><td> 25.93445</td></tr>\n",
       "\t<tr><td>GI   </td><td>11.299676</td><td>1073155</td><td>113.63352</td></tr>\n",
       "\t<tr><td>NS   </td><td> 7.055875</td><td>1680032</td><td> 32.54804</td></tr>\n",
       "\t<tr><td>Other</td><td> 3.187383</td><td>1353948</td><td> 22.41636</td></tr>\n",
       "</tbody>\n",
       "</table>\n"
      ],
      "text/latex": [
       "A tibble: 4 × 4\n",
       "\\begin{tabular}{llll}\n",
       " Field & avg\\_CiteScore & total\\_citations & mean\\\\\n",
       " <chr> & <dbl> & <int> & <dbl>\\\\\n",
       "\\hline\n",
       "\t EC    &  4.554681 &   30862 &  25.93445\\\\\n",
       "\t GI    & 11.299676 & 1073155 & 113.63352\\\\\n",
       "\t NS    &  7.055875 & 1680032 &  32.54804\\\\\n",
       "\t Other &  3.187383 & 1353948 &  22.41636\\\\\n",
       "\\end{tabular}\n"
      ],
      "text/markdown": [
       "\n",
       "A tibble: 4 × 4\n",
       "\n",
       "| Field &lt;chr&gt; | avg_CiteScore &lt;dbl&gt; | total_citations &lt;int&gt; | mean &lt;dbl&gt; |\n",
       "|---|---|---|---|\n",
       "| EC    |  4.554681 |   30862 |  25.93445 |\n",
       "| GI    | 11.299676 | 1073155 | 113.63352 |\n",
       "| NS    |  7.055875 | 1680032 |  32.54804 |\n",
       "| Other |  3.187383 | 1353948 |  22.41636 |\n",
       "\n"
      ],
      "text/plain": [
       "  Field avg_CiteScore total_citations mean     \n",
       "1 EC     4.554681       30862          25.93445\n",
       "2 GI    11.299676     1073155         113.63352\n",
       "3 NS     7.055875     1680032          32.54804\n",
       "4 Other  3.187383     1353948          22.41636"
      ]
     },
     "metadata": {},
     "output_type": "display_data"
    }
   ],
   "source": [
    "comp %>% group_by(Field) %>%\n",
    "  summarise(avg_CiteScore = mean(CiteScore), total_citations = sum(citation_count), mean = mean(citation_count))"
   ]
  },
  {
   "cell_type": "markdown",
   "metadata": {},
   "source": [
    "Count and percentage of cited-by articles by type"
   ]
  },
  {
   "cell_type": "code",
   "execution_count": 14,
   "metadata": {},
   "outputs": [
    {
     "name": "stderr",
     "output_type": "stream",
     "text": [
      "`summarise()` regrouping output by 'Field' (override with `.groups` argument)\n"
     ]
    },
    {
     "data": {
      "text/html": [
       "<table>\n",
       "<caption>A grouped_df: 8 × 4</caption>\n",
       "<thead>\n",
       "\t<tr><th scope=col>Field</th><th scope=col>CrossIntra</th><th scope=col>count</th><th scope=col>percent</th></tr>\n",
       "\t<tr><th scope=col>&lt;chr&gt;</th><th scope=col>&lt;chr&gt;</th><th scope=col>&lt;int&gt;</th><th scope=col>&lt;chr&gt;</th></tr>\n",
       "</thead>\n",
       "<tbody>\n",
       "\t<tr><td>EC   </td><td>Cross</td><td>  3803</td><td>3.10% </td></tr>\n",
       "\t<tr><td>EC   </td><td>Intra</td><td>  1729</td><td>1.41% </td></tr>\n",
       "\t<tr><td>GI   </td><td>Cross</td><td>  3165</td><td>2.580%</td></tr>\n",
       "\t<tr><td>GI   </td><td>Intra</td><td>  2794</td><td>2.278%</td></tr>\n",
       "\t<tr><td>NS   </td><td>Cross</td><td>282236</td><td>230.1%</td></tr>\n",
       "\t<tr><td>NS   </td><td>Intra</td><td>179415</td><td>146.3%</td></tr>\n",
       "\t<tr><td>Other</td><td>Cross</td><td> 32143</td><td>26.21%</td></tr>\n",
       "\t<tr><td>Other</td><td>Intra</td><td> 30803</td><td>25.11%</td></tr>\n",
       "</tbody>\n",
       "</table>\n"
      ],
      "text/latex": [
       "A grouped\\_df: 8 × 4\n",
       "\\begin{tabular}{llll}\n",
       " Field & CrossIntra & count & percent\\\\\n",
       " <chr> & <chr> & <int> & <chr>\\\\\n",
       "\\hline\n",
       "\t EC    & Cross &   3803 & 3.10\\% \\\\\n",
       "\t EC    & Intra &   1729 & 1.41\\% \\\\\n",
       "\t GI    & Cross &   3165 & 2.580\\%\\\\\n",
       "\t GI    & Intra &   2794 & 2.278\\%\\\\\n",
       "\t NS    & Cross & 282236 & 230.1\\%\\\\\n",
       "\t NS    & Intra & 179415 & 146.3\\%\\\\\n",
       "\t Other & Cross &  32143 & 26.21\\%\\\\\n",
       "\t Other & Intra &  30803 & 25.11\\%\\\\\n",
       "\\end{tabular}\n"
      ],
      "text/markdown": [
       "\n",
       "A grouped_df: 8 × 4\n",
       "\n",
       "| Field &lt;chr&gt; | CrossIntra &lt;chr&gt; | count &lt;int&gt; | percent &lt;chr&gt; |\n",
       "|---|---|---|---|\n",
       "| EC    | Cross |   3803 | 3.10%  |\n",
       "| EC    | Intra |   1729 | 1.41%  |\n",
       "| GI    | Cross |   3165 | 2.580% |\n",
       "| GI    | Intra |   2794 | 2.278% |\n",
       "| NS    | Cross | 282236 | 230.1% |\n",
       "| NS    | Intra | 179415 | 146.3% |\n",
       "| Other | Cross |  32143 | 26.21% |\n",
       "| Other | Intra |  30803 | 25.11% |\n",
       "\n"
      ],
      "text/plain": [
       "  Field CrossIntra count  percent\n",
       "1 EC    Cross        3803 3.10%  \n",
       "2 EC    Intra        1729 1.41%  \n",
       "3 GI    Cross        3165 2.580% \n",
       "4 GI    Intra        2794 2.278% \n",
       "5 NS    Cross      282236 230.1% \n",
       "6 NS    Intra      179415 146.3% \n",
       "7 Other Cross       32143 26.21% \n",
       "8 Other Intra       30803 25.11% "
      ]
     },
     "metadata": {},
     "output_type": "display_data"
    }
   ],
   "source": [
    "comp_cited %>% group_by(Field, CrossIntra) %>%\n",
    "  summarise(count = n()) %>% \n",
    "  mutate(percent = percent(count/nrow(comp)))"
   ]
  },
  {
   "cell_type": "markdown",
   "metadata": {},
   "source": [
    "Count and percentage of cited-by articles by field"
   ]
  },
  {
   "cell_type": "code",
   "execution_count": 15,
   "metadata": {},
   "outputs": [
    {
     "name": "stderr",
     "output_type": "stream",
     "text": [
      "`summarise()` regrouping output by 'Field' (override with `.groups` argument)\n"
     ]
    },
    {
     "data": {
      "text/html": [
       "<table>\n",
       "<caption>A grouped_df: 16 × 4</caption>\n",
       "<thead>\n",
       "\t<tr><th scope=col>Field</th><th scope=col>Source</th><th scope=col>count</th><th scope=col>percentage</th></tr>\n",
       "\t<tr><th scope=col>&lt;chr&gt;</th><th scope=col>&lt;chr&gt;</th><th scope=col>&lt;int&gt;</th><th scope=col>&lt;chr&gt;</th></tr>\n",
       "</thead>\n",
       "<tbody>\n",
       "\t<tr><td>EC   </td><td>EC   </td><td>  1729</td><td>31.3%</td></tr>\n",
       "\t<tr><td>EC   </td><td>GI   </td><td>   465</td><td>8.4% </td></tr>\n",
       "\t<tr><td>EC   </td><td>NS   </td><td>  2089</td><td>37.8%</td></tr>\n",
       "\t<tr><td>EC   </td><td>Other</td><td>  1249</td><td>22.6%</td></tr>\n",
       "\t<tr><td>GI   </td><td>EC   </td><td>    63</td><td>1.1% </td></tr>\n",
       "\t<tr><td>GI   </td><td>GI   </td><td>  2794</td><td>46.9%</td></tr>\n",
       "\t<tr><td>GI   </td><td>NS   </td><td>  1710</td><td>28.7%</td></tr>\n",
       "\t<tr><td>GI   </td><td>Other</td><td>  1392</td><td>23.4%</td></tr>\n",
       "\t<tr><td>NS   </td><td>EC   </td><td>  4691</td><td>1.0% </td></tr>\n",
       "\t<tr><td>NS   </td><td>GI   </td><td> 95095</td><td>20.6%</td></tr>\n",
       "\t<tr><td>NS   </td><td>NS   </td><td>179415</td><td>38.9%</td></tr>\n",
       "\t<tr><td>NS   </td><td>Other</td><td>182450</td><td>39.5%</td></tr>\n",
       "\t<tr><td>Other</td><td>EC   </td><td>  1153</td><td>1.8% </td></tr>\n",
       "\t<tr><td>Other</td><td>GI   </td><td> 10838</td><td>17.2%</td></tr>\n",
       "\t<tr><td>Other</td><td>NS   </td><td> 20152</td><td>32.0%</td></tr>\n",
       "\t<tr><td>Other</td><td>Other</td><td> 30803</td><td>48.9%</td></tr>\n",
       "</tbody>\n",
       "</table>\n"
      ],
      "text/latex": [
       "A grouped\\_df: 16 × 4\n",
       "\\begin{tabular}{llll}\n",
       " Field & Source & count & percentage\\\\\n",
       " <chr> & <chr> & <int> & <chr>\\\\\n",
       "\\hline\n",
       "\t EC    & EC    &   1729 & 31.3\\%\\\\\n",
       "\t EC    & GI    &    465 & 8.4\\% \\\\\n",
       "\t EC    & NS    &   2089 & 37.8\\%\\\\\n",
       "\t EC    & Other &   1249 & 22.6\\%\\\\\n",
       "\t GI    & EC    &     63 & 1.1\\% \\\\\n",
       "\t GI    & GI    &   2794 & 46.9\\%\\\\\n",
       "\t GI    & NS    &   1710 & 28.7\\%\\\\\n",
       "\t GI    & Other &   1392 & 23.4\\%\\\\\n",
       "\t NS    & EC    &   4691 & 1.0\\% \\\\\n",
       "\t NS    & GI    &  95095 & 20.6\\%\\\\\n",
       "\t NS    & NS    & 179415 & 38.9\\%\\\\\n",
       "\t NS    & Other & 182450 & 39.5\\%\\\\\n",
       "\t Other & EC    &   1153 & 1.8\\% \\\\\n",
       "\t Other & GI    &  10838 & 17.2\\%\\\\\n",
       "\t Other & NS    &  20152 & 32.0\\%\\\\\n",
       "\t Other & Other &  30803 & 48.9\\%\\\\\n",
       "\\end{tabular}\n"
      ],
      "text/markdown": [
       "\n",
       "A grouped_df: 16 × 4\n",
       "\n",
       "| Field &lt;chr&gt; | Source &lt;chr&gt; | count &lt;int&gt; | percentage &lt;chr&gt; |\n",
       "|---|---|---|---|\n",
       "| EC    | EC    |   1729 | 31.3% |\n",
       "| EC    | GI    |    465 | 8.4%  |\n",
       "| EC    | NS    |   2089 | 37.8% |\n",
       "| EC    | Other |   1249 | 22.6% |\n",
       "| GI    | EC    |     63 | 1.1%  |\n",
       "| GI    | GI    |   2794 | 46.9% |\n",
       "| GI    | NS    |   1710 | 28.7% |\n",
       "| GI    | Other |   1392 | 23.4% |\n",
       "| NS    | EC    |   4691 | 1.0%  |\n",
       "| NS    | GI    |  95095 | 20.6% |\n",
       "| NS    | NS    | 179415 | 38.9% |\n",
       "| NS    | Other | 182450 | 39.5% |\n",
       "| Other | EC    |   1153 | 1.8%  |\n",
       "| Other | GI    |  10838 | 17.2% |\n",
       "| Other | NS    |  20152 | 32.0% |\n",
       "| Other | Other |  30803 | 48.9% |\n",
       "\n"
      ],
      "text/plain": [
       "   Field Source count  percentage\n",
       "1  EC    EC       1729 31.3%     \n",
       "2  EC    GI        465 8.4%      \n",
       "3  EC    NS       2089 37.8%     \n",
       "4  EC    Other    1249 22.6%     \n",
       "5  GI    EC         63 1.1%      \n",
       "6  GI    GI       2794 46.9%     \n",
       "7  GI    NS       1710 28.7%     \n",
       "8  GI    Other    1392 23.4%     \n",
       "9  NS    EC       4691 1.0%      \n",
       "10 NS    GI      95095 20.6%     \n",
       "11 NS    NS     179415 38.9%     \n",
       "12 NS    Other  182450 39.5%     \n",
       "13 Other EC       1153 1.8%      \n",
       "14 Other GI      10838 17.2%     \n",
       "15 Other NS      20152 32.0%     \n",
       "16 Other Other   30803 48.9%     "
      ]
     },
     "metadata": {},
     "output_type": "display_data"
    }
   ],
   "source": [
    "comp_cited %>% group_by(Field, Source) %>%\n",
    "  summarize(count = n()) %>%\n",
    "  mutate(percentage = percent(count/sum(count)))"
   ]
  },
  {
   "cell_type": "markdown",
   "metadata": {},
   "source": [
    "## Appendix Table"
   ]
  },
  {
   "cell_type": "code",
   "execution_count": 16,
   "metadata": {
    "scrolled": true
   },
   "outputs": [
    {
     "data": {
      "text/html": [
       "<table>\n",
       "<caption>A grouped_df: 657 × 4</caption>\n",
       "<thead>\n",
       "\t<tr><th scope=col>Publication Name</th><th scope=col>Interdisciplinary</th><th scope=col>Comparator</th><th scope=col># Unique Issues</th></tr>\n",
       "\t<tr><th scope=col>&lt;chr&gt;</th><th scope=col>&lt;int&gt;</th><th scope=col>&lt;int&gt;</th><th scope=col>&lt;int&gt;</th></tr>\n",
       "</thead>\n",
       "<tbody>\n",
       "\t<tr><td>ACI Materials Journal                                          </td><td> 5</td><td> 44</td><td> 4</td></tr>\n",
       "\t<tr><td>ACI Structural Journal                                         </td><td> 1</td><td> 11</td><td> 1</td></tr>\n",
       "\t<tr><td>Acta Geophysica                                                </td><td> 1</td><td>  7</td><td> 1</td></tr>\n",
       "\t<tr><td>Acta Mechanica Sinica/Lixue Xuebao                             </td><td> 1</td><td> 12</td><td> 1</td></tr>\n",
       "\t<tr><td>Acta Oecologica                                                </td><td> 2</td><td> 23</td><td> 2</td></tr>\n",
       "\t<tr><td>Advances in Complex Systems                                    </td><td> 2</td><td>  0</td><td> 1</td></tr>\n",
       "\t<tr><td>Advances in Water Resources                                    </td><td> 5</td><td> 64</td><td> 5</td></tr>\n",
       "\t<tr><td>African Journal of Range and Forage Science                    </td><td> 5</td><td>  8</td><td> 2</td></tr>\n",
       "\t<tr><td>Agricultural and Forest Entomology                             </td><td> 2</td><td> 20</td><td> 2</td></tr>\n",
       "\t<tr><td>Agricultural and Forest Meteorology                            </td><td>14</td><td>112</td><td>13</td></tr>\n",
       "\t<tr><td>Agricultural and Resource Economics Review                     </td><td> 1</td><td>  4</td><td> 1</td></tr>\n",
       "\t<tr><td>Agricultural Systems                                           </td><td> 5</td><td> 64</td><td> 5</td></tr>\n",
       "\t<tr><td>Agricultural Water Management                                  </td><td> 1</td><td> 14</td><td> 1</td></tr>\n",
       "\t<tr><td>Agriculture and Human Values                                   </td><td> 3</td><td> 32</td><td> 3</td></tr>\n",
       "\t<tr><td>Agriculture, Ecosystems and Environment                        </td><td>16</td><td>172</td><td>15</td></tr>\n",
       "\t<tr><td>Agronomy Journal                                               </td><td> 7</td><td>250</td><td> 6</td></tr>\n",
       "\t<tr><td>AIChE Journal                                                  </td><td> 2</td><td> 51</td><td> 2</td></tr>\n",
       "\t<tr><td>AIDS Care - Psychological and Socio-Medical Aspects of AIDS/HIV</td><td> 1</td><td> 18</td><td> 1</td></tr>\n",
       "\t<tr><td>Ambio                                                          </td><td>13</td><td> 95</td><td>11</td></tr>\n",
       "\t<tr><td>American Anthropologist                                        </td><td> 2</td><td> 19</td><td> 2</td></tr>\n",
       "\t<tr><td>American Antiquity                                             </td><td> 7</td><td> 60</td><td> 6</td></tr>\n",
       "\t<tr><td>American Biology Teacher                                       </td><td> 1</td><td> 10</td><td> 1</td></tr>\n",
       "\t<tr><td>American Entomologist                                          </td><td> 1</td><td> 16</td><td> 1</td></tr>\n",
       "\t<tr><td>American Journal of Agricultural Economics                     </td><td> 5</td><td> 55</td><td> 4</td></tr>\n",
       "\t<tr><td>American Journal of Botany                                     </td><td> 4</td><td> 66</td><td> 4</td></tr>\n",
       "\t<tr><td>American Journal of Public Health                              </td><td> 1</td><td> 41</td><td> 1</td></tr>\n",
       "\t<tr><td>American Midland Naturalist                                    </td><td> 2</td><td> 28</td><td> 2</td></tr>\n",
       "\t<tr><td>American Naturalist                                            </td><td> 6</td><td> 66</td><td> 6</td></tr>\n",
       "\t<tr><td>Analytica Chimica Acta                                         </td><td> 3</td><td> 35</td><td> 3</td></tr>\n",
       "\t<tr><td>Analytical and Bioanalytical Chemistry                         </td><td> 1</td><td> 24</td><td> 1</td></tr>\n",
       "\t<tr><td>...</td><td>...</td><td>...</td><td>...</td></tr>\n",
       "\t<tr><td>Theoretical Population Biology                      </td><td> 3</td><td> 17</td><td> 3</td></tr>\n",
       "\t<tr><td>Town Planning Review                                </td><td> 1</td><td>  4</td><td> 1</td></tr>\n",
       "\t<tr><td>Transactions of the American Fisheries Society      </td><td> 3</td><td> 62</td><td> 3</td></tr>\n",
       "\t<tr><td>Transactions of the Institute of British Geographers</td><td> 1</td><td> 12</td><td> 1</td></tr>\n",
       "\t<tr><td>Transport in Porous Media                           </td><td> 1</td><td> 11</td><td> 1</td></tr>\n",
       "\t<tr><td>Tree Physiology                                     </td><td> 4</td><td> 22</td><td> 3</td></tr>\n",
       "\t<tr><td>Trees - Structure and Function                      </td><td> 1</td><td>  6</td><td> 1</td></tr>\n",
       "\t<tr><td>Trends in Ecology and Evolution                     </td><td> 3</td><td> 22</td><td> 3</td></tr>\n",
       "\t<tr><td>Trends in Microbiology                              </td><td> 2</td><td> 12</td><td> 2</td></tr>\n",
       "\t<tr><td>Tropical Conservation Science                       </td><td> 1</td><td>  5</td><td> 1</td></tr>\n",
       "\t<tr><td>Urban Ecosystems                                    </td><td> 6</td><td> 41</td><td> 5</td></tr>\n",
       "\t<tr><td>Vadose Zone Journal                                 </td><td> 7</td><td>229</td><td> 6</td></tr>\n",
       "\t<tr><td>Water (Switzerland)                                 </td><td> 3</td><td>  0</td><td> 3</td></tr>\n",
       "\t<tr><td>Water Alternatives                                  </td><td> 1</td><td> 10</td><td> 1</td></tr>\n",
       "\t<tr><td>Water International                                 </td><td> 2</td><td> 16</td><td> 2</td></tr>\n",
       "\t<tr><td>Water Research                                      </td><td> 5</td><td>148</td><td> 5</td></tr>\n",
       "\t<tr><td>Water Resources and Economics                       </td><td> 1</td><td>  4</td><td> 1</td></tr>\n",
       "\t<tr><td>Water Resources Management                          </td><td> 1</td><td>  4</td><td> 1</td></tr>\n",
       "\t<tr><td>Water Resources Research                            </td><td>36</td><td>679</td><td>27</td></tr>\n",
       "\t<tr><td>Water Security                                      </td><td> 1</td><td>  4</td><td> 1</td></tr>\n",
       "\t<tr><td>Weather, Climate, and Society                       </td><td> 2</td><td> 18</td><td> 2</td></tr>\n",
       "\t<tr><td>Weed Science                                        </td><td> 1</td><td> 18</td><td> 1</td></tr>\n",
       "\t<tr><td>Wildlife Biology                                    </td><td> 1</td><td>  3</td><td> 1</td></tr>\n",
       "\t<tr><td>Wildlife Society Bulletin                           </td><td> 2</td><td> 53</td><td> 2</td></tr>\n",
       "\t<tr><td>Wiley Interdisciplinary Reviews: Climate Change     </td><td> 1</td><td>  5</td><td> 1</td></tr>\n",
       "\t<tr><td>World Development                                   </td><td> 6</td><td>112</td><td> 6</td></tr>\n",
       "\t<tr><td>Worldviews: Environment, Culture, Religion          </td><td> 1</td><td>  3</td><td> 1</td></tr>\n",
       "\t<tr><td>Zeitschrift Fur Geomorphologie                      </td><td> 1</td><td> 11</td><td> 1</td></tr>\n",
       "\t<tr><td>Zoologia                                            </td><td> 1</td><td> 23</td><td> 1</td></tr>\n",
       "\t<tr><td>Zoonoses and Public Health                          </td><td> 1</td><td>  7</td><td> 1</td></tr>\n",
       "</tbody>\n",
       "</table>\n"
      ],
      "text/latex": [
       "A grouped\\_df: 657 × 4\n",
       "\\begin{tabular}{llll}\n",
       " Publication Name & Interdisciplinary & Comparator & \\# Unique Issues\\\\\n",
       " <chr> & <int> & <int> & <int>\\\\\n",
       "\\hline\n",
       "\t ACI Materials Journal                                           &  5 &  44 &  4\\\\\n",
       "\t ACI Structural Journal                                          &  1 &  11 &  1\\\\\n",
       "\t Acta Geophysica                                                 &  1 &   7 &  1\\\\\n",
       "\t Acta Mechanica Sinica/Lixue Xuebao                              &  1 &  12 &  1\\\\\n",
       "\t Acta Oecologica                                                 &  2 &  23 &  2\\\\\n",
       "\t Advances in Complex Systems                                     &  2 &   0 &  1\\\\\n",
       "\t Advances in Water Resources                                     &  5 &  64 &  5\\\\\n",
       "\t African Journal of Range and Forage Science                     &  5 &   8 &  2\\\\\n",
       "\t Agricultural and Forest Entomology                              &  2 &  20 &  2\\\\\n",
       "\t Agricultural and Forest Meteorology                             & 14 & 112 & 13\\\\\n",
       "\t Agricultural and Resource Economics Review                      &  1 &   4 &  1\\\\\n",
       "\t Agricultural Systems                                            &  5 &  64 &  5\\\\\n",
       "\t Agricultural Water Management                                   &  1 &  14 &  1\\\\\n",
       "\t Agriculture and Human Values                                    &  3 &  32 &  3\\\\\n",
       "\t Agriculture, Ecosystems and Environment                         & 16 & 172 & 15\\\\\n",
       "\t Agronomy Journal                                                &  7 & 250 &  6\\\\\n",
       "\t AIChE Journal                                                   &  2 &  51 &  2\\\\\n",
       "\t AIDS Care - Psychological and Socio-Medical Aspects of AIDS/HIV &  1 &  18 &  1\\\\\n",
       "\t Ambio                                                           & 13 &  95 & 11\\\\\n",
       "\t American Anthropologist                                         &  2 &  19 &  2\\\\\n",
       "\t American Antiquity                                              &  7 &  60 &  6\\\\\n",
       "\t American Biology Teacher                                        &  1 &  10 &  1\\\\\n",
       "\t American Entomologist                                           &  1 &  16 &  1\\\\\n",
       "\t American Journal of Agricultural Economics                      &  5 &  55 &  4\\\\\n",
       "\t American Journal of Botany                                      &  4 &  66 &  4\\\\\n",
       "\t American Journal of Public Health                               &  1 &  41 &  1\\\\\n",
       "\t American Midland Naturalist                                     &  2 &  28 &  2\\\\\n",
       "\t American Naturalist                                             &  6 &  66 &  6\\\\\n",
       "\t Analytica Chimica Acta                                          &  3 &  35 &  3\\\\\n",
       "\t Analytical and Bioanalytical Chemistry                          &  1 &  24 &  1\\\\\n",
       "\t ... & ... & ... & ...\\\\\n",
       "\t Theoretical Population Biology                       &  3 &  17 &  3\\\\\n",
       "\t Town Planning Review                                 &  1 &   4 &  1\\\\\n",
       "\t Transactions of the American Fisheries Society       &  3 &  62 &  3\\\\\n",
       "\t Transactions of the Institute of British Geographers &  1 &  12 &  1\\\\\n",
       "\t Transport in Porous Media                            &  1 &  11 &  1\\\\\n",
       "\t Tree Physiology                                      &  4 &  22 &  3\\\\\n",
       "\t Trees - Structure and Function                       &  1 &   6 &  1\\\\\n",
       "\t Trends in Ecology and Evolution                      &  3 &  22 &  3\\\\\n",
       "\t Trends in Microbiology                               &  2 &  12 &  2\\\\\n",
       "\t Tropical Conservation Science                        &  1 &   5 &  1\\\\\n",
       "\t Urban Ecosystems                                     &  6 &  41 &  5\\\\\n",
       "\t Vadose Zone Journal                                  &  7 & 229 &  6\\\\\n",
       "\t Water (Switzerland)                                  &  3 &   0 &  3\\\\\n",
       "\t Water Alternatives                                   &  1 &  10 &  1\\\\\n",
       "\t Water International                                  &  2 &  16 &  2\\\\\n",
       "\t Water Research                                       &  5 & 148 &  5\\\\\n",
       "\t Water Resources and Economics                        &  1 &   4 &  1\\\\\n",
       "\t Water Resources Management                           &  1 &   4 &  1\\\\\n",
       "\t Water Resources Research                             & 36 & 679 & 27\\\\\n",
       "\t Water Security                                       &  1 &   4 &  1\\\\\n",
       "\t Weather, Climate, and Society                        &  2 &  18 &  2\\\\\n",
       "\t Weed Science                                         &  1 &  18 &  1\\\\\n",
       "\t Wildlife Biology                                     &  1 &   3 &  1\\\\\n",
       "\t Wildlife Society Bulletin                            &  2 &  53 &  2\\\\\n",
       "\t Wiley Interdisciplinary Reviews: Climate Change      &  1 &   5 &  1\\\\\n",
       "\t World Development                                    &  6 & 112 &  6\\\\\n",
       "\t Worldviews: Environment, Culture, Religion           &  1 &   3 &  1\\\\\n",
       "\t Zeitschrift Fur Geomorphologie                       &  1 &  11 &  1\\\\\n",
       "\t Zoologia                                             &  1 &  23 &  1\\\\\n",
       "\t Zoonoses and Public Health                           &  1 &   7 &  1\\\\\n",
       "\\end{tabular}\n"
      ],
      "text/markdown": [
       "\n",
       "A grouped_df: 657 × 4\n",
       "\n",
       "| Publication Name &lt;chr&gt; | Interdisciplinary &lt;int&gt; | Comparator &lt;int&gt; | # Unique Issues &lt;int&gt; |\n",
       "|---|---|---|---|\n",
       "| ACI Materials Journal                                           |  5 |  44 |  4 |\n",
       "| ACI Structural Journal                                          |  1 |  11 |  1 |\n",
       "| Acta Geophysica                                                 |  1 |   7 |  1 |\n",
       "| Acta Mechanica Sinica/Lixue Xuebao                              |  1 |  12 |  1 |\n",
       "| Acta Oecologica                                                 |  2 |  23 |  2 |\n",
       "| Advances in Complex Systems                                     |  2 |   0 |  1 |\n",
       "| Advances in Water Resources                                     |  5 |  64 |  5 |\n",
       "| African Journal of Range and Forage Science                     |  5 |   8 |  2 |\n",
       "| Agricultural and Forest Entomology                              |  2 |  20 |  2 |\n",
       "| Agricultural and Forest Meteorology                             | 14 | 112 | 13 |\n",
       "| Agricultural and Resource Economics Review                      |  1 |   4 |  1 |\n",
       "| Agricultural Systems                                            |  5 |  64 |  5 |\n",
       "| Agricultural Water Management                                   |  1 |  14 |  1 |\n",
       "| Agriculture and Human Values                                    |  3 |  32 |  3 |\n",
       "| Agriculture, Ecosystems and Environment                         | 16 | 172 | 15 |\n",
       "| Agronomy Journal                                                |  7 | 250 |  6 |\n",
       "| AIChE Journal                                                   |  2 |  51 |  2 |\n",
       "| AIDS Care - Psychological and Socio-Medical Aspects of AIDS/HIV |  1 |  18 |  1 |\n",
       "| Ambio                                                           | 13 |  95 | 11 |\n",
       "| American Anthropologist                                         |  2 |  19 |  2 |\n",
       "| American Antiquity                                              |  7 |  60 |  6 |\n",
       "| American Biology Teacher                                        |  1 |  10 |  1 |\n",
       "| American Entomologist                                           |  1 |  16 |  1 |\n",
       "| American Journal of Agricultural Economics                      |  5 |  55 |  4 |\n",
       "| American Journal of Botany                                      |  4 |  66 |  4 |\n",
       "| American Journal of Public Health                               |  1 |  41 |  1 |\n",
       "| American Midland Naturalist                                     |  2 |  28 |  2 |\n",
       "| American Naturalist                                             |  6 |  66 |  6 |\n",
       "| Analytica Chimica Acta                                          |  3 |  35 |  3 |\n",
       "| Analytical and Bioanalytical Chemistry                          |  1 |  24 |  1 |\n",
       "| ... | ... | ... | ... |\n",
       "| Theoretical Population Biology                       |  3 |  17 |  3 |\n",
       "| Town Planning Review                                 |  1 |   4 |  1 |\n",
       "| Transactions of the American Fisheries Society       |  3 |  62 |  3 |\n",
       "| Transactions of the Institute of British Geographers |  1 |  12 |  1 |\n",
       "| Transport in Porous Media                            |  1 |  11 |  1 |\n",
       "| Tree Physiology                                      |  4 |  22 |  3 |\n",
       "| Trees - Structure and Function                       |  1 |   6 |  1 |\n",
       "| Trends in Ecology and Evolution                      |  3 |  22 |  3 |\n",
       "| Trends in Microbiology                               |  2 |  12 |  2 |\n",
       "| Tropical Conservation Science                        |  1 |   5 |  1 |\n",
       "| Urban Ecosystems                                     |  6 |  41 |  5 |\n",
       "| Vadose Zone Journal                                  |  7 | 229 |  6 |\n",
       "| Water (Switzerland)                                  |  3 |   0 |  3 |\n",
       "| Water Alternatives                                   |  1 |  10 |  1 |\n",
       "| Water International                                  |  2 |  16 |  2 |\n",
       "| Water Research                                       |  5 | 148 |  5 |\n",
       "| Water Resources and Economics                        |  1 |   4 |  1 |\n",
       "| Water Resources Management                           |  1 |   4 |  1 |\n",
       "| Water Resources Research                             | 36 | 679 | 27 |\n",
       "| Water Security                                       |  1 |   4 |  1 |\n",
       "| Weather, Climate, and Society                        |  2 |  18 |  2 |\n",
       "| Weed Science                                         |  1 |  18 |  1 |\n",
       "| Wildlife Biology                                     |  1 |   3 |  1 |\n",
       "| Wildlife Society Bulletin                            |  2 |  53 |  2 |\n",
       "| Wiley Interdisciplinary Reviews: Climate Change      |  1 |   5 |  1 |\n",
       "| World Development                                    |  6 | 112 |  6 |\n",
       "| Worldviews: Environment, Culture, Religion           |  1 |   3 |  1 |\n",
       "| Zeitschrift Fur Geomorphologie                       |  1 |  11 |  1 |\n",
       "| Zoologia                                             |  1 |  23 |  1 |\n",
       "| Zoonoses and Public Health                           |  1 |   7 |  1 |\n",
       "\n"
      ],
      "text/plain": [
       "    Publication Name                                               \n",
       "1   ACI Materials Journal                                          \n",
       "2   ACI Structural Journal                                         \n",
       "3   Acta Geophysica                                                \n",
       "4   Acta Mechanica Sinica/Lixue Xuebao                             \n",
       "5   Acta Oecologica                                                \n",
       "6   Advances in Complex Systems                                    \n",
       "7   Advances in Water Resources                                    \n",
       "8   African Journal of Range and Forage Science                    \n",
       "9   Agricultural and Forest Entomology                             \n",
       "10  Agricultural and Forest Meteorology                            \n",
       "11  Agricultural and Resource Economics Review                     \n",
       "12  Agricultural Systems                                           \n",
       "13  Agricultural Water Management                                  \n",
       "14  Agriculture and Human Values                                   \n",
       "15  Agriculture, Ecosystems and Environment                        \n",
       "16  Agronomy Journal                                               \n",
       "17  AIChE Journal                                                  \n",
       "18  AIDS Care - Psychological and Socio-Medical Aspects of AIDS/HIV\n",
       "19  Ambio                                                          \n",
       "20  American Anthropologist                                        \n",
       "21  American Antiquity                                             \n",
       "22  American Biology Teacher                                       \n",
       "23  American Entomologist                                          \n",
       "24  American Journal of Agricultural Economics                     \n",
       "25  American Journal of Botany                                     \n",
       "26  American Journal of Public Health                              \n",
       "27  American Midland Naturalist                                    \n",
       "28  American Naturalist                                            \n",
       "29  Analytica Chimica Acta                                         \n",
       "30  Analytical and Bioanalytical Chemistry                         \n",
       "... ...                                                            \n",
       "628 Theoretical Population Biology                                 \n",
       "629 Town Planning Review                                           \n",
       "630 Transactions of the American Fisheries Society                 \n",
       "631 Transactions of the Institute of British Geographers           \n",
       "632 Transport in Porous Media                                      \n",
       "633 Tree Physiology                                                \n",
       "634 Trees - Structure and Function                                 \n",
       "635 Trends in Ecology and Evolution                                \n",
       "636 Trends in Microbiology                                         \n",
       "637 Tropical Conservation Science                                  \n",
       "638 Urban Ecosystems                                               \n",
       "639 Vadose Zone Journal                                            \n",
       "640 Water (Switzerland)                                            \n",
       "641 Water Alternatives                                             \n",
       "642 Water International                                            \n",
       "643 Water Research                                                 \n",
       "644 Water Resources and Economics                                  \n",
       "645 Water Resources Management                                     \n",
       "646 Water Resources Research                                       \n",
       "647 Water Security                                                 \n",
       "648 Weather, Climate, and Society                                  \n",
       "649 Weed Science                                                   \n",
       "650 Wildlife Biology                                               \n",
       "651 Wildlife Society Bulletin                                      \n",
       "652 Wiley Interdisciplinary Reviews: Climate Change                \n",
       "653 World Development                                              \n",
       "654 Worldviews: Environment, Culture, Religion                     \n",
       "655 Zeitschrift Fur Geomorphologie                                 \n",
       "656 Zoologia                                                       \n",
       "657 Zoonoses and Public Health                                     \n",
       "    Interdisciplinary Comparator # Unique Issues\n",
       "1    5                 44         4             \n",
       "2    1                 11         1             \n",
       "3    1                  7         1             \n",
       "4    1                 12         1             \n",
       "5    2                 23         2             \n",
       "6    2                  0         1             \n",
       "7    5                 64         5             \n",
       "8    5                  8         2             \n",
       "9    2                 20         2             \n",
       "10  14                112        13             \n",
       "11   1                  4         1             \n",
       "12   5                 64         5             \n",
       "13   1                 14         1             \n",
       "14   3                 32         3             \n",
       "15  16                172        15             \n",
       "16   7                250         6             \n",
       "17   2                 51         2             \n",
       "18   1                 18         1             \n",
       "19  13                 95        11             \n",
       "20   2                 19         2             \n",
       "21   7                 60         6             \n",
       "22   1                 10         1             \n",
       "23   1                 16         1             \n",
       "24   5                 55         4             \n",
       "25   4                 66         4             \n",
       "26   1                 41         1             \n",
       "27   2                 28         2             \n",
       "28   6                 66         6             \n",
       "29   3                 35         3             \n",
       "30   1                 24         1             \n",
       "... ...               ...        ...            \n",
       "628  3                 17         3             \n",
       "629  1                  4         1             \n",
       "630  3                 62         3             \n",
       "631  1                 12         1             \n",
       "632  1                 11         1             \n",
       "633  4                 22         3             \n",
       "634  1                  6         1             \n",
       "635  3                 22         3             \n",
       "636  2                 12         2             \n",
       "637  1                  5         1             \n",
       "638  6                 41         5             \n",
       "639  7                229         6             \n",
       "640  3                  0         3             \n",
       "641  1                 10         1             \n",
       "642  2                 16         2             \n",
       "643  5                148         5             \n",
       "644  1                  4         1             \n",
       "645  1                  4         1             \n",
       "646 36                679        27             \n",
       "647  1                  4         1             \n",
       "648  2                 18         2             \n",
       "649  1                 18         1             \n",
       "650  1                  3         1             \n",
       "651  2                 53         2             \n",
       "652  1                  5         1             \n",
       "653  6                112         6             \n",
       "654  1                  3         1             \n",
       "655  1                 11         1             \n",
       "656  1                 23         1             \n",
       "657  1                  7         1             "
      ]
     },
     "metadata": {},
     "output_type": "display_data"
    }
   ],
   "source": [
    "app.table = full_data %>%\n",
    "    group_by(\"Publication Name\"=tools::toTitleCase(publication_name)) %>%\n",
    "    summarise(Interdisciplinary = sum(Dataset == \"Interdisciplinary\"),\n",
    "              Comparator = sum(Dataset == \"Comparator\"),\n",
    "              \"# Unique Issues\" = length(unique(tolower(query))),\n",
    "              .groups=\"keep\")\n",
    "app.table\n",
    "fwrite(app.table, \"Appendix_Table_1.csv\")"
   ]
  },
  {
   "cell_type": "code",
   "execution_count": null,
   "metadata": {},
   "outputs": [],
   "source": []
  }
 ],
 "metadata": {
  "kernelspec": {
   "display_name": "R",
   "language": "R",
   "name": "ir"
  },
  "language_info": {
   "codemirror_mode": "r",
   "file_extension": ".r",
   "mimetype": "text/x-r-source",
   "name": "R",
   "pygments_lexer": "r",
   "version": "3.6.1"
  }
 },
 "nbformat": 4,
 "nbformat_minor": 4
}
