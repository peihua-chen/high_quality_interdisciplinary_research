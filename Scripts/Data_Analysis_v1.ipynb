{
 "cells": [
  {
   "cell_type": "code",
   "execution_count": 1,
   "metadata": {
    "collapsed": true
   },
   "outputs": [
    {
     "name": "stderr",
     "output_type": "stream",
     "text": [
      "Loading required package: pacman\n",
      "Warning message:\n",
      "\"package 'pacman' was built under R version 3.6.3\""
     ]
    }
   ],
   "source": [
    "if (!require(\"pacman\")) install.packages(\"pacman\")\n",
    "p_load(data.table, ggplot2, dplyr, scales, caret, googledrive, ggpubr, tidyr, cowplot)"
   ]
  },
  {
   "cell_type": "code",
   "execution_count": 2,
   "metadata": {},
   "outputs": [],
   "source": [
    "drive_download(file = as_id(\"https://drive.google.com/open?id=1cojd2hT5QFTc9Qabyd3vJnpl4uiU--n9\"),\n",
    "  path = \"Pubs_Final.csv\",\n",
    "  overwrite = TRUE)\n",
    "\n",
    "drive_download(file = as_id(\"https://drive.google.com/open?id=1uAwZfZ_0RKO4tvqIbXQqMNq2MuKmexup\"),\n",
    "  path = \"Comp_Final.csv\",\n",
    "  overwrite = TRUE)\n",
    "\n",
    "drive_download(file = as_id(\"https://drive.google.com/open?id=1p47VtjOC87uB33ZOWJqidYort9suOHFv\"),\n",
    "  path = \"PubsCited_Final.csv\",\n",
    "  overwrite = TRUE)\n",
    "\n",
    "drive_download(file = as_id(\"https://drive.google.com/open?id=1qUoBDeKDqHXEvcXQiEmYia94Ra03J2nm\"),\n",
    "  path = \"CompCited_Sample_Final.csv\",\n",
    "  overwrite = TRUE)\n",
    "\n",
    "pubs = fread(\"Pubs_Final.csv\", encoding = \"UTF-8\", stringsAsFactors = F)\n",
    "comp = fread(\"Comp_Final.csv\", encoding = \"UTF-8\", stringsAsFactors = F)\n",
    "pubs_cited = fread(\"PubsCited_Final.csv\", encoding = \"UTF-8\", stringsAsFactors = F)\n",
    "comp_cited = fread(\"CompCited_Sample_Final.csv\", encoding = \"UTF-8\", stringsAsFactors = F)\n",
    "full_data = rbind(pubs[,-25], comp)"
   ]
  },
  {
   "cell_type": "code",
   "execution_count": 3,
   "metadata": {
    "scrolled": true
   },
   "outputs": [
    {
     "data": {
      "text/html": [
       "<table>\n",
       "<caption>A data.table: 6 × 29</caption>\n",
       "<thead>\n",
       "\t<tr><th scope=col>scopus_id</th><th scope=col>eid</th><th scope=col>title</th><th scope=col>publication_name</th><th scope=col>issn</th><th scope=col>isbn</th><th scope=col>eissn</th><th scope=col>volume</th><th scope=col>issue</th><th scope=col>page_range</th><th scope=col>...</th><th scope=col>auth_keywords</th><th scope=col>fund_acr</th><th scope=col>fund_no</th><th scope=col>fund_sponsor</th><th scope=col>full_text</th><th scope=col>Field</th><th scope=col>Dataset</th><th scope=col>Quartile</th><th scope=col>query</th><th scope=col>CiteScore</th></tr>\n",
       "\t<tr><th scope=col>&lt;int64&gt;</th><th scope=col>&lt;chr&gt;</th><th scope=col>&lt;chr&gt;</th><th scope=col>&lt;chr&gt;</th><th scope=col>&lt;chr&gt;</th><th scope=col>&lt;lgl&gt;</th><th scope=col>&lt;chr&gt;</th><th scope=col>&lt;chr&gt;</th><th scope=col>&lt;chr&gt;</th><th scope=col>&lt;chr&gt;</th><th scope=col>...</th><th scope=col>&lt;chr&gt;</th><th scope=col>&lt;chr&gt;</th><th scope=col>&lt;chr&gt;</th><th scope=col>&lt;chr&gt;</th><th scope=col>&lt;chr&gt;</th><th scope=col>&lt;chr&gt;</th><th scope=col>&lt;chr&gt;</th><th scope=col>&lt;chr&gt;</th><th scope=col>&lt;chr&gt;</th><th scope=col>&lt;dbl&gt;</th></tr>\n",
       "</thead>\n",
       "<tbody>\n",
       "\t<tr><td>84889092764</td><td>2-s2.0-84889092764</td><td>The social-ecological system framework as a knowledge classificatory system for benthic small-scale fisheries                               </td><td>Global Environmental Change        </td><td>9593780 </td><td>NA</td><td>        </td><td>23 </td><td>6</td><td>1366-1380</td><td>...</td><td>Benthic small-scale fisheries | Chile | Human dimensions | Mexico | Social-ecological system (SES) framework                                                                                               </td><td></td><td>undefined</td><td>Duke University                    </td><td>https://api.elsevier.com/content/article/eid/1-s2.0-S0959378013001350</td><td>NS</td><td>Interdisciplinary</td><td>Quartile 1</td><td>EXACTSRCTITLE(Global Environmental Change) AND VOLUME(23) AND ISSUE(6)           </td><td>10.29</td></tr>\n",
       "\t<tr><td>84891884316</td><td>2-s2.0-84891884316</td><td>Cooperative and noncooperative strategies for small-scale fisheries' self-governance in the globalization era: Implications for conservation</td><td>Ecology and Society                </td><td>        </td><td>NA</td><td>17083087</td><td>18 </td><td>4</td><td>         </td><td>...</td><td>Commercialization | Fishing cooperatives | Gulf of California fisheries | Location and co-op choice | Resource stewardship | Self-governance | Small-scale fisheries                                       </td><td></td><td>undefined</td><td>                                   </td><td>                                                                     </td><td>NS</td><td>Interdisciplinary</td><td>Quartile 1</td><td>EXACTSRCTITLE(Ecology and Society) AND VOLUME(18) AND ISSUE(4)                   </td><td> 4.81</td></tr>\n",
       "\t<tr><td>84884713045</td><td>2-s2.0-84884713045</td><td>How good science and stories can go hand-in-hand                                                                                            </td><td>Conservation Biology               </td><td>8888892 </td><td>NA</td><td>15231739</td><td>27 </td><td>5</td><td>1126-1129</td><td>...</td><td>                                                                                                                                                                                                           </td><td></td><td>undefined</td><td>David and Lucile Packard Foundation</td><td>                                                                     </td><td>NS</td><td>Interdisciplinary</td><td>Quartile 1</td><td>EXACTSRCTITLE(Conservation Biology) AND VOLUME(27) AND ISSUE(5)                  </td><td> 5.97</td></tr>\n",
       "\t<tr><td>84878910274</td><td>2-s2.0-84878910274</td><td>Evidence of market-driven size-selective fishing and the mediating effects of biological and institutional factors                          </td><td>Ecological Applications            </td><td>10510761</td><td>NA</td><td>        </td><td>23 </td><td>4</td><td>726-741  </td><td>...</td><td>Coupled natural and human systems model | Coupled social-ecological systems | Ecosystem services | Fishing | Human behavior | Life history traits; population modeling | Selective harvest | Size selection</td><td></td><td>undefined</td><td>                                   </td><td>                                                                     </td><td>NS</td><td>Interdisciplinary</td><td>Quartile 1</td><td>EXACTSRCTITLE(Ecological Applications) AND VOLUME(23) AND ISSUE(4)               </td><td> 4.40</td></tr>\n",
       "\t<tr><td>84873931007</td><td>2-s2.0-84873931007</td><td>Long-term effectiveness of a multi-use marine protected area on reef fish assemblages and fisheries landings                                </td><td>Journal of Environmental Management</td><td>3014797 </td><td>NA</td><td>10958630</td><td>117</td><td> </td><td>276-283  </td><td>...</td><td>Beyond-BACI analysis | Fisheries management | Gulf of California | Marine protected area | No-take areas | Reef fish assemblages                                                                           </td><td></td><td>undefined</td><td>                                   </td><td>https://api.elsevier.com/content/article/eid/1-s2.0-S0301479712006676</td><td>NS</td><td>Interdisciplinary</td><td>Quartile 1</td><td>EXACTSRCTITLE(Journal of Environmental Management) AND VOLUME(117) AND ISSUE(nan)</td><td> 5.32</td></tr>\n",
       "\t<tr><td>84875549052</td><td>2-s2.0-84875549052</td><td>The Need for a Next Generation of Sonoran Desert Researchers                                                                                </td><td>Conservation Biology               </td><td>8888892 </td><td>NA</td><td>15231739</td><td>27 </td><td>2</td><td>243-245  </td><td>...</td><td>                                                                                                                                                                                                           </td><td></td><td>undefined</td><td>                                   </td><td>                                                                     </td><td>NS</td><td>Interdisciplinary</td><td>Quartile 1</td><td>EXACTSRCTITLE(Conservation Biology) AND VOLUME(27) AND ISSUE(2)                  </td><td> 5.97</td></tr>\n",
       "</tbody>\n",
       "</table>\n"
      ],
      "text/latex": [
       "A data.table: 6 × 29\n",
       "\\begin{tabular}{lllllllllllllllllllll}\n",
       " scopus\\_id & eid & title & publication\\_name & issn & isbn & eissn & volume & issue & page\\_range & ... & auth\\_keywords & fund\\_acr & fund\\_no & fund\\_sponsor & full\\_text & Field & Dataset & Quartile & query & CiteScore\\\\\n",
       " <int64> & <chr> & <chr> & <chr> & <chr> & <lgl> & <chr> & <chr> & <chr> & <chr> & ... & <chr> & <chr> & <chr> & <chr> & <chr> & <chr> & <chr> & <chr> & <chr> & <dbl>\\\\\n",
       "\\hline\n",
       "\t 84889092764 & 2-s2.0-84889092764 & The social-ecological system framework as a knowledge classificatory system for benthic small-scale fisheries                                & Global Environmental Change         & 9593780  & NA &          & 23  & 6 & 1366-1380 & ... & Benthic small-scale fisheries \\textbar{} Chile \\textbar{} Human dimensions \\textbar{} Mexico \\textbar{} Social-ecological system (SES) framework                                                                                                &  & undefined & Duke University                     & https://api.elsevier.com/content/article/eid/1-s2.0-S0959378013001350 & NS & Interdisciplinary & Quartile 1 & EXACTSRCTITLE(Global Environmental Change) AND VOLUME(23) AND ISSUE(6)            & 10.29\\\\\n",
       "\t 84891884316 & 2-s2.0-84891884316 & Cooperative and noncooperative strategies for small-scale fisheries' self-governance in the globalization era: Implications for conservation & Ecology and Society                 &          & NA & 17083087 & 18  & 4 &           & ... & Commercialization \\textbar{} Fishing cooperatives \\textbar{} Gulf of California fisheries \\textbar{} Location and co-op choice \\textbar{} Resource stewardship \\textbar{} Self-governance \\textbar{} Small-scale fisheries                                        &  & undefined &                                     &                                                                       & NS & Interdisciplinary & Quartile 1 & EXACTSRCTITLE(Ecology and Society) AND VOLUME(18) AND ISSUE(4)                    &  4.81\\\\\n",
       "\t 84884713045 & 2-s2.0-84884713045 & How good science and stories can go hand-in-hand                                                                                             & Conservation Biology                & 8888892  & NA & 15231739 & 27  & 5 & 1126-1129 & ... &                                                                                                                                                                                                             &  & undefined & David and Lucile Packard Foundation &                                                                       & NS & Interdisciplinary & Quartile 1 & EXACTSRCTITLE(Conservation Biology) AND VOLUME(27) AND ISSUE(5)                   &  5.97\\\\\n",
       "\t 84878910274 & 2-s2.0-84878910274 & Evidence of market-driven size-selective fishing and the mediating effects of biological and institutional factors                           & Ecological Applications             & 10510761 & NA &          & 23  & 4 & 726-741   & ... & Coupled natural and human systems model \\textbar{} Coupled social-ecological systems \\textbar{} Ecosystem services \\textbar{} Fishing \\textbar{} Human behavior \\textbar{} Life history traits; population modeling \\textbar{} Selective harvest \\textbar{} Size selection &  & undefined &                                     &                                                                       & NS & Interdisciplinary & Quartile 1 & EXACTSRCTITLE(Ecological Applications) AND VOLUME(23) AND ISSUE(4)                &  4.40\\\\\n",
       "\t 84873931007 & 2-s2.0-84873931007 & Long-term effectiveness of a multi-use marine protected area on reef fish assemblages and fisheries landings                                 & Journal of Environmental Management & 3014797  & NA & 10958630 & 117 &   & 276-283   & ... & Beyond-BACI analysis \\textbar{} Fisheries management \\textbar{} Gulf of California \\textbar{} Marine protected area \\textbar{} No-take areas \\textbar{} Reef fish assemblages                                                                            &  & undefined &                                     & https://api.elsevier.com/content/article/eid/1-s2.0-S0301479712006676 & NS & Interdisciplinary & Quartile 1 & EXACTSRCTITLE(Journal of Environmental Management) AND VOLUME(117) AND ISSUE(nan) &  5.32\\\\\n",
       "\t 84875549052 & 2-s2.0-84875549052 & The Need for a Next Generation of Sonoran Desert Researchers                                                                                 & Conservation Biology                & 8888892  & NA & 15231739 & 27  & 2 & 243-245   & ... &                                                                                                                                                                                                             &  & undefined &                                     &                                                                       & NS & Interdisciplinary & Quartile 1 & EXACTSRCTITLE(Conservation Biology) AND VOLUME(27) AND ISSUE(2)                   &  5.97\\\\\n",
       "\\end{tabular}\n"
      ],
      "text/markdown": [
       "\n",
       "A data.table: 6 × 29\n",
       "\n",
       "| scopus_id &lt;int64&gt; | eid &lt;chr&gt; | title &lt;chr&gt; | publication_name &lt;chr&gt; | issn &lt;chr&gt; | isbn &lt;lgl&gt; | eissn &lt;chr&gt; | volume &lt;chr&gt; | issue &lt;chr&gt; | page_range &lt;chr&gt; | ... ... | auth_keywords &lt;chr&gt; | fund_acr &lt;chr&gt; | fund_no &lt;chr&gt; | fund_sponsor &lt;chr&gt; | full_text &lt;chr&gt; | Field &lt;chr&gt; | Dataset &lt;chr&gt; | Quartile &lt;chr&gt; | query &lt;chr&gt; | CiteScore &lt;dbl&gt; |\n",
       "|---|---|---|---|---|---|---|---|---|---|---|---|---|---|---|---|---|---|---|---|---|\n",
       "| 84889092764 | 2-s2.0-84889092764 | The social-ecological system framework as a knowledge classificatory system for benthic small-scale fisheries                                | Global Environmental Change         | 9593780  | NA | <!----> | 23  | 6 | 1366-1380 | ... | Benthic small-scale fisheries | Chile | Human dimensions | Mexico | Social-ecological system (SES) framework                                                                                                | <!----> | undefined | Duke University                     | https://api.elsevier.com/content/article/eid/1-s2.0-S0959378013001350 | NS | Interdisciplinary | Quartile 1 | EXACTSRCTITLE(Global Environmental Change) AND VOLUME(23) AND ISSUE(6)            | 10.29 |\n",
       "| 84891884316 | 2-s2.0-84891884316 | Cooperative and noncooperative strategies for small-scale fisheries' self-governance in the globalization era: Implications for conservation | Ecology and Society                 | <!----> | NA | 17083087 | 18  | 4 | <!----> | ... | Commercialization | Fishing cooperatives | Gulf of California fisheries | Location and co-op choice | Resource stewardship | Self-governance | Small-scale fisheries                                        | <!----> | undefined | <!----> | <!----> | NS | Interdisciplinary | Quartile 1 | EXACTSRCTITLE(Ecology and Society) AND VOLUME(18) AND ISSUE(4)                    |  4.81 |\n",
       "| 84884713045 | 2-s2.0-84884713045 | How good science and stories can go hand-in-hand                                                                                             | Conservation Biology                | 8888892  | NA | 15231739 | 27  | 5 | 1126-1129 | ... | <!----> | <!----> | undefined | David and Lucile Packard Foundation | <!----> | NS | Interdisciplinary | Quartile 1 | EXACTSRCTITLE(Conservation Biology) AND VOLUME(27) AND ISSUE(5)                   |  5.97 |\n",
       "| 84878910274 | 2-s2.0-84878910274 | Evidence of market-driven size-selective fishing and the mediating effects of biological and institutional factors                           | Ecological Applications             | 10510761 | NA | <!----> | 23  | 4 | 726-741   | ... | Coupled natural and human systems model | Coupled social-ecological systems | Ecosystem services | Fishing | Human behavior | Life history traits; population modeling | Selective harvest | Size selection | <!----> | undefined | <!----> | <!----> | NS | Interdisciplinary | Quartile 1 | EXACTSRCTITLE(Ecological Applications) AND VOLUME(23) AND ISSUE(4)                |  4.40 |\n",
       "| 84873931007 | 2-s2.0-84873931007 | Long-term effectiveness of a multi-use marine protected area on reef fish assemblages and fisheries landings                                 | Journal of Environmental Management | 3014797  | NA | 10958630 | 117 | <!----> | 276-283   | ... | Beyond-BACI analysis | Fisheries management | Gulf of California | Marine protected area | No-take areas | Reef fish assemblages                                                                            | <!----> | undefined | <!----> | https://api.elsevier.com/content/article/eid/1-s2.0-S0301479712006676 | NS | Interdisciplinary | Quartile 1 | EXACTSRCTITLE(Journal of Environmental Management) AND VOLUME(117) AND ISSUE(nan) |  5.32 |\n",
       "| 84875549052 | 2-s2.0-84875549052 | The Need for a Next Generation of Sonoran Desert Researchers                                                                                 | Conservation Biology                | 8888892  | NA | 15231739 | 27  | 2 | 243-245   | ... | <!----> | <!----> | undefined | <!----> | <!----> | NS | Interdisciplinary | Quartile 1 | EXACTSRCTITLE(Conservation Biology) AND VOLUME(27) AND ISSUE(2)                   |  5.97 |\n",
       "\n"
      ],
      "text/plain": [
       "  scopus_id   eid               \n",
       "1 84889092764 2-s2.0-84889092764\n",
       "2 84891884316 2-s2.0-84891884316\n",
       "3 84884713045 2-s2.0-84884713045\n",
       "4 84878910274 2-s2.0-84878910274\n",
       "5 84873931007 2-s2.0-84873931007\n",
       "6 84875549052 2-s2.0-84875549052\n",
       "  title                                                                                                                                       \n",
       "1 The social-ecological system framework as a knowledge classificatory system for benthic small-scale fisheries                               \n",
       "2 Cooperative and noncooperative strategies for small-scale fisheries' self-governance in the globalization era: Implications for conservation\n",
       "3 How good science and stories can go hand-in-hand                                                                                            \n",
       "4 Evidence of market-driven size-selective fishing and the mediating effects of biological and institutional factors                          \n",
       "5 Long-term effectiveness of a multi-use marine protected area on reef fish assemblages and fisheries landings                                \n",
       "6 The Need for a Next Generation of Sonoran Desert Researchers                                                                                \n",
       "  publication_name                    issn     isbn eissn    volume issue\n",
       "1 Global Environmental Change         9593780  NA            23     6    \n",
       "2 Ecology and Society                          NA   17083087 18     4    \n",
       "3 Conservation Biology                8888892  NA   15231739 27     5    \n",
       "4 Ecological Applications             10510761 NA            23     4    \n",
       "5 Journal of Environmental Management 3014797  NA   10958630 117         \n",
       "6 Conservation Biology                8888892  NA   15231739 27     2    \n",
       "  page_range ...\n",
       "1 1366-1380  ...\n",
       "2            ...\n",
       "3 1126-1129  ...\n",
       "4 726-741    ...\n",
       "5 276-283    ...\n",
       "6 243-245    ...\n",
       "  auth_keywords                                                                                                                                                                                              \n",
       "1 Benthic small-scale fisheries | Chile | Human dimensions | Mexico | Social-ecological system (SES) framework                                                                                               \n",
       "2 Commercialization | Fishing cooperatives | Gulf of California fisheries | Location and co-op choice | Resource stewardship | Self-governance | Small-scale fisheries                                       \n",
       "3                                                                                                                                                                                                            \n",
       "4 Coupled natural and human systems model | Coupled social-ecological systems | Ecosystem services | Fishing | Human behavior | Life history traits; population modeling | Selective harvest | Size selection\n",
       "5 Beyond-BACI analysis | Fisheries management | Gulf of California | Marine protected area | No-take areas | Reef fish assemblages                                                                           \n",
       "6                                                                                                                                                                                                            \n",
       "  fund_acr fund_no   fund_sponsor                       \n",
       "1          undefined Duke University                    \n",
       "2          undefined                                    \n",
       "3          undefined David and Lucile Packard Foundation\n",
       "4          undefined                                    \n",
       "5          undefined                                    \n",
       "6          undefined                                    \n",
       "  full_text                                                             Field\n",
       "1 https://api.elsevier.com/content/article/eid/1-s2.0-S0959378013001350 NS   \n",
       "2                                                                       NS   \n",
       "3                                                                       NS   \n",
       "4                                                                       NS   \n",
       "5 https://api.elsevier.com/content/article/eid/1-s2.0-S0301479712006676 NS   \n",
       "6                                                                       NS   \n",
       "  Dataset           Quartile  \n",
       "1 Interdisciplinary Quartile 1\n",
       "2 Interdisciplinary Quartile 1\n",
       "3 Interdisciplinary Quartile 1\n",
       "4 Interdisciplinary Quartile 1\n",
       "5 Interdisciplinary Quartile 1\n",
       "6 Interdisciplinary Quartile 1\n",
       "  query                                                                            \n",
       "1 EXACTSRCTITLE(Global Environmental Change) AND VOLUME(23) AND ISSUE(6)           \n",
       "2 EXACTSRCTITLE(Ecology and Society) AND VOLUME(18) AND ISSUE(4)                   \n",
       "3 EXACTSRCTITLE(Conservation Biology) AND VOLUME(27) AND ISSUE(5)                  \n",
       "4 EXACTSRCTITLE(Ecological Applications) AND VOLUME(23) AND ISSUE(4)               \n",
       "5 EXACTSRCTITLE(Journal of Environmental Management) AND VOLUME(117) AND ISSUE(nan)\n",
       "6 EXACTSRCTITLE(Conservation Biology) AND VOLUME(27) AND ISSUE(2)                  \n",
       "  CiteScore\n",
       "1 10.29    \n",
       "2  4.81    \n",
       "3  5.97    \n",
       "4  4.40    \n",
       "5  5.32    \n",
       "6  5.97    "
      ]
     },
     "metadata": {},
     "output_type": "display_data"
    }
   ],
   "source": [
    "head(full_data)"
   ]
  },
  {
   "cell_type": "markdown",
   "metadata": {},
   "source": [
    "## Normalize citation count by journal issue"
   ]
  },
  {
   "cell_type": "code",
   "execution_count": 4,
   "metadata": {},
   "outputs": [],
   "source": [
    "keep = c(\"eid\", \"publication_name\", \"volume\", \"issue\", \"citation_count\", \"query\", \"Field\", \"Quartile\")\n",
    "normed = full_data[, ..keep] %>%\n",
    "  group_by(query) %>%\n",
    "  mutate(z.mean = mean(citation_count), z.sd = sd(citation_count), std = scale(citation_count))\n",
    "normed$std = ifelse(is.na(normed$std), normed$citation_count, normed$std)\n",
    "normed = normed[normed$eid %in% pubs$eid,]"
   ]
  },
  {
   "cell_type": "markdown",
   "metadata": {},
   "source": [
    "## Statistics"
   ]
  },
  {
   "cell_type": "code",
   "execution_count": 5,
   "metadata": {},
   "outputs": [
    {
     "name": "stdout",
     "output_type": "stream",
     "text": [
      "[1] \"mean\"\n"
     ]
    },
    {
     "data": {
      "text/html": [
       "8.31812146642169"
      ],
      "text/latex": [
       "8.31812146642169"
      ],
      "text/markdown": [
       "8.31812146642169"
      ],
      "text/plain": [
       "[1] 8.318121"
      ]
     },
     "metadata": {},
     "output_type": "display_data"
    },
    {
     "name": "stdout",
     "output_type": "stream",
     "text": [
      "[1] \"median\"\n"
     ]
    },
    {
     "data": {
      "text/html": [
       "0.20156589953928"
      ],
      "text/latex": [
       "0.20156589953928"
      ],
      "text/markdown": [
       "0.20156589953928"
      ],
      "text/plain": [
       "[1] 0.2015659"
      ]
     },
     "metadata": {},
     "output_type": "display_data"
    },
    {
     "data": {
      "text/html": [
       "0"
      ],
      "text/latex": [
       "0"
      ],
      "text/markdown": [
       "0"
      ],
      "text/plain": [
       "[1] 0"
      ]
     },
     "metadata": {},
     "output_type": "display_data"
    },
    {
     "data": {
      "text/html": [
       "<style>\n",
       ".list-inline {list-style: none; margin:0; padding: 0}\n",
       ".list-inline>li {display: inline-block}\n",
       ".list-inline>li:not(:last-child)::after {content: \"\\00b7\"; padding: 0 .5ex}\n",
       "</style>\n",
       "<ol class=list-inline><li>-0.14137577134985</li><li>1.69849880484069</li><li>-0.787888212597562</li><li>-0.151408733397807</li><li>3.92866555895419</li><li>-0.335578675297518</li><li>0.721391672128032</li></ol>\n"
      ],
      "text/latex": [
       "\\begin{enumerate*}\n",
       "\\item -0.14137577134985\n",
       "\\item 1.69849880484069\n",
       "\\item -0.787888212597562\n",
       "\\item -0.151408733397807\n",
       "\\item 3.92866555895419\n",
       "\\item -0.335578675297518\n",
       "\\item 0.721391672128032\n",
       "\\end{enumerate*}\n"
      ],
      "text/markdown": [
       "1. -0.14137577134985\n",
       "2. 1.69849880484069\n",
       "3. -0.787888212597562\n",
       "4. -0.151408733397807\n",
       "5. 3.92866555895419\n",
       "6. -0.335578675297518\n",
       "7. 0.721391672128032\n",
       "\n",
       "\n"
      ],
      "text/plain": [
       "[1] -0.1413758  1.6984988 -0.7878882 -0.1514087  3.9286656 -0.3355787  0.7213917"
      ]
     },
     "metadata": {},
     "output_type": "display_data"
    },
    {
     "name": "stdout",
     "output_type": "stream",
     "text": [
      "[1] \"mode\"\n"
     ]
    },
    {
     "data": {
      "text/html": [
       "0"
      ],
      "text/latex": [
       "0"
      ],
      "text/markdown": [
       "0"
      ],
      "text/plain": [
       "[1] 0"
      ]
     },
     "metadata": {},
     "output_type": "display_data"
    },
    {
     "data": {
      "image/png": "[encoded data removed]",
      "text/plain": [
       "plot without title"
      ]
     },
     "metadata": {},
     "output_type": "display_data"
    }
   ],
   "source": [
    "tmp.data <- normed%>%\n",
    "  mutate(std.pile = ifelse(std > 10, 10, std))\n",
    "  #filter(Quartile == \"Quartile 1\")\n",
    "gghistogram(data = tmp.data, x = \"std.pile\",\n",
    "            binwidth = 0.5,\n",
    "            fill = \"blue\",\n",
    "            xlab = \"Z-tranform of Citations\"\n",
    "            #add = \"mean\"\n",
    "            ) \n",
    "  #+xscale(\"log2\", .format = TRUE)\n",
    "\n",
    "print('mean')\n",
    "mean(normed$std)\n",
    "print('median')\n",
    "median(normed$std)\n",
    "\n",
    "unique(normed$std)[which.max(tabulate(match(normed$std, unique(normed$std))))]\n",
    "unique(normed$std)[349:355]\n",
    "\n",
    "getmode <- function(v) {\n",
    "   uniqv <- unique(v)\n",
    "   uniqv[which.max(tabulate(match(v, uniqv)))]\n",
    "}\n",
    "print('mode')\n",
    "getmode(normed$std)"
   ]
  },
  {
   "cell_type": "markdown",
   "metadata": {},
   "source": [
    "## Histogram normalized data"
   ]
  },
  {
   "cell_type": "code",
   "execution_count": 6,
   "metadata": {
    "scrolled": false
   },
   "outputs": [
    {
     "data": {
      "image/png": "[encoded data removed]",
      "text/plain": [
       "plot without title"
      ]
     },
     "metadata": {},
     "output_type": "display_data"
    },
    {
     "data": {
      "image/png": "[encoded data removed]",
      "text/plain": [
       "plot without title"
      ]
     },
     "metadata": {},
     "output_type": "display_data"
    }
   ],
   "source": [
    "tmp.data <- normed%>%\n",
    "  mutate(std.pile = ifelse(std > 10, 10, std)) %>%\n",
    "  filter(Field != \"Other\")\n",
    "gghistogram(data = tmp.data, x = \"std.pile\",\n",
    "            binwidth = 0.5,\n",
    "            color = \"Field\", fill = \"Field\",\n",
    "            xlab = \"Z-tranform of Citations\",\n",
    "            add = \"mean\"\n",
    "            ) #+\n",
    " #yscale(\"log2\", .format = TRUE)\n",
    "\n",
    "\n",
    "tmp.data <- normed %>%\n",
    "  mutate(std.pile = ifelse(std > 10, 10, std)) %>%\n",
    "  filter(Field == \"NS\")\n",
    "ns.hist <- gghistogram(data = tmp.data, x = \"std.pile\",\n",
    "            binwidth = 0.5,\n",
    "            #color = \"blue\", \n",
    "            fill = \"Quartile\",\n",
    "            xlab = \"Z-tranform of Citations, Natural Science\"\n",
    "           # add = \"mean\"\n",
    "            )\n",
    "tmp.data <- normed %>%\n",
    "  mutate(std.pile = ifelse(std > 10, 10, std)) %>%\n",
    "  filter(Field == \"GI\")%>%\n",
    "  filter(Quartile != \"Missing\")\n",
    "gi.hist <- gghistogram(data = tmp.data, x = \"std.pile\",\n",
    "            binwidth = 0.5,\n",
    "            #color = \"blue\", \n",
    "            fill = \"Quartile\",\n",
    "            xlab = \"Z-tranform of Citations, General Interest\"\n",
    "           # add = \"mean\"\n",
    "            )\n",
    "tmp.data <- normed %>%\n",
    "  mutate(std.pile = ifelse(std > 10, 10, std)) %>%\n",
    "  filter(Field == \"EC\")\n",
    "ec.hist <- gghistogram(data = tmp.data, x = \"std.pile\",\n",
    "            binwidth = 0.5,\n",
    "            #color = \"blue\", \n",
    "            fill = \"Quartile\",\n",
    "            xlab = \"Z-tranform of Citations, Economics\"\n",
    "           # add = \"mean\"\n",
    "            )\n",
    "tmp.data <- normed %>%\n",
    "  mutate(std.pile = ifelse(std > 10, 10, std)) %>%\n",
    "  filter(Field == \"Other\")\n",
    "o.hist <- gghistogram(data = tmp.data, x = \"std.pile\",\n",
    "            binwidth = 0.5,\n",
    "            #color = \"blue\", \n",
    "            fill = \"Quartile\",\n",
    "            xlab = \"Z-tranform of Citations, Other\"\n",
    "           # add = \"mean\"\n",
    "            )\n",
    "\n",
    "plot_grid(ns.hist, gi.hist, ec.hist, o.hist)"
   ]
  },
  {
   "cell_type": "markdown",
   "metadata": {},
   "source": [
    "## Citations in-depth: Intra- and Cross-Disciplinary\n",
    "------------------------------------------------------------------------------------\n",
    "Tables in order:\n",
    "1. Interdisciplinary set fields\n",
    "2. Total and average citation by field\n",
    "3. Count and percentage of cited-by articles by type\n",
    "4. Count and percentage of cited-by articles by field\n",
    "5. Count cross-/intra-disciplinary citations per award (only interdisciplinary set)"
   ]
  },
  {
   "cell_type": "markdown",
   "metadata": {},
   "source": [
    "### Interdiscplinary set"
   ]
  },
  {
   "cell_type": "code",
   "execution_count": 7,
   "metadata": {},
   "outputs": [
    {
     "name": "stderr",
     "output_type": "stream",
     "text": [
      "`summarise()` ungrouping output (override with `.groups` argument)\n"
     ]
    },
    {
     "data": {
      "text/html": [
       "<table>\n",
       "<caption>A tibble: 4 × 3</caption>\n",
       "<thead>\n",
       "\t<tr><th scope=col>Field</th><th scope=col>count</th><th scope=col>percent</th></tr>\n",
       "\t<tr><th scope=col>&lt;chr&gt;</th><th scope=col>&lt;int&gt;</th><th scope=col>&lt;chr&gt;</th></tr>\n",
       "</thead>\n",
       "<tbody>\n",
       "\t<tr><td>EC   </td><td>  81</td><td>3.0% </td></tr>\n",
       "\t<tr><td>GI   </td><td> 179</td><td>6.5% </td></tr>\n",
       "\t<tr><td>NS   </td><td>2335</td><td>85.3%</td></tr>\n",
       "\t<tr><td>Other</td><td> 143</td><td>5.2% </td></tr>\n",
       "</tbody>\n",
       "</table>\n"
      ],
      "text/latex": [
       "A tibble: 4 × 3\n",
       "\\begin{tabular}{lll}\n",
       " Field & count & percent\\\\\n",
       " <chr> & <int> & <chr>\\\\\n",
       "\\hline\n",
       "\t EC    &   81 & 3.0\\% \\\\\n",
       "\t GI    &  179 & 6.5\\% \\\\\n",
       "\t NS    & 2335 & 85.3\\%\\\\\n",
       "\t Other &  143 & 5.2\\% \\\\\n",
       "\\end{tabular}\n"
      ],
      "text/markdown": [
       "\n",
       "A tibble: 4 × 3\n",
       "\n",
       "| Field &lt;chr&gt; | count &lt;int&gt; | percent &lt;chr&gt; |\n",
       "|---|---|---|\n",
       "| EC    |   81 | 3.0%  |\n",
       "| GI    |  179 | 6.5%  |\n",
       "| NS    | 2335 | 85.3% |\n",
       "| Other |  143 | 5.2%  |\n",
       "\n"
      ],
      "text/plain": [
       "  Field count percent\n",
       "1 EC      81  3.0%   \n",
       "2 GI     179  6.5%   \n",
       "3 NS    2335  85.3%  \n",
       "4 Other  143  5.2%   "
      ]
     },
     "metadata": {},
     "output_type": "display_data"
    }
   ],
   "source": [
    "pubs %>% group_by(Field) %>% \n",
    "  summarise(count = n()) %>%\n",
    "  mutate(percent = percent(count/sum(count)))"
   ]
  },
  {
   "cell_type": "code",
   "execution_count": 8,
   "metadata": {},
   "outputs": [
    {
     "name": "stderr",
     "output_type": "stream",
     "text": [
      "`summarise()` ungrouping output (override with `.groups` argument)\n"
     ]
    },
    {
     "data": {
      "text/html": [
       "<table>\n",
       "<caption>A tibble: 4 × 4</caption>\n",
       "<thead>\n",
       "\t<tr><th scope=col>Field</th><th scope=col>avg_CiteScore</th><th scope=col>total_citations</th><th scope=col>mean</th></tr>\n",
       "\t<tr><th scope=col>&lt;chr&gt;</th><th scope=col>&lt;dbl&gt;</th><th scope=col>&lt;int&gt;</th><th scope=col>&lt;dbl&gt;</th></tr>\n",
       "</thead>\n",
       "<tbody>\n",
       "\t<tr><td>EC   </td><td> 3.404074</td><td>  2766</td><td> 34.14815</td></tr>\n",
       "\t<tr><td>GI   </td><td>12.209832</td><td> 47828</td><td>267.19553</td></tr>\n",
       "\t<tr><td>NS   </td><td> 4.206998</td><td>141360</td><td> 60.53961</td></tr>\n",
       "\t<tr><td>Other</td><td> 2.722867</td><td>  4453</td><td> 31.13986</td></tr>\n",
       "</tbody>\n",
       "</table>\n"
      ],
      "text/latex": [
       "A tibble: 4 × 4\n",
       "\\begin{tabular}{llll}\n",
       " Field & avg\\_CiteScore & total\\_citations & mean\\\\\n",
       " <chr> & <dbl> & <int> & <dbl>\\\\\n",
       "\\hline\n",
       "\t EC    &  3.404074 &   2766 &  34.14815\\\\\n",
       "\t GI    & 12.209832 &  47828 & 267.19553\\\\\n",
       "\t NS    &  4.206998 & 141360 &  60.53961\\\\\n",
       "\t Other &  2.722867 &   4453 &  31.13986\\\\\n",
       "\\end{tabular}\n"
      ],
      "text/markdown": [
       "\n",
       "A tibble: 4 × 4\n",
       "\n",
       "| Field &lt;chr&gt; | avg_CiteScore &lt;dbl&gt; | total_citations &lt;int&gt; | mean &lt;dbl&gt; |\n",
       "|---|---|---|---|\n",
       "| EC    |  3.404074 |   2766 |  34.14815 |\n",
       "| GI    | 12.209832 |  47828 | 267.19553 |\n",
       "| NS    |  4.206998 | 141360 |  60.53961 |\n",
       "| Other |  2.722867 |   4453 |  31.13986 |\n",
       "\n"
      ],
      "text/plain": [
       "  Field avg_CiteScore total_citations mean     \n",
       "1 EC     3.404074       2766           34.14815\n",
       "2 GI    12.209832      47828          267.19553\n",
       "3 NS     4.206998     141360           60.53961\n",
       "4 Other  2.722867       4453           31.13986"
      ]
     },
     "metadata": {},
     "output_type": "display_data"
    }
   ],
   "source": [
    "pubs %>% group_by(Field) %>%\n",
    "  summarise(avg_CiteScore = mean(CiteScore), total_citations = sum(citation_count), mean = mean(citation_count))"
   ]
  },
  {
   "cell_type": "markdown",
   "metadata": {},
   "source": [
    "Count and percentage of cited-by articles by type"
   ]
  },
  {
   "cell_type": "code",
   "execution_count": 9,
   "metadata": {},
   "outputs": [
    {
     "name": "stderr",
     "output_type": "stream",
     "text": [
      "`summarise()` regrouping output by 'Field' (override with `.groups` argument)\n"
     ]
    },
    {
     "data": {
      "text/html": [
       "<table>\n",
       "<caption>A grouped_df: 8 × 4</caption>\n",
       "<thead>\n",
       "\t<tr><th scope=col>Field</th><th scope=col>CrossIntra</th><th scope=col>count</th><th scope=col>percent</th></tr>\n",
       "\t<tr><th scope=col>&lt;chr&gt;</th><th scope=col>&lt;chr&gt;</th><th scope=col>&lt;int&gt;</th><th scope=col>&lt;chr&gt;</th></tr>\n",
       "</thead>\n",
       "<tbody>\n",
       "\t<tr><td>EC   </td><td>Cross</td><td>  4155</td><td>2.65% </td></tr>\n",
       "\t<tr><td>EC   </td><td>Intra</td><td>   764</td><td>0.49% </td></tr>\n",
       "\t<tr><td>GI   </td><td>Cross</td><td>  1855</td><td>1.185%</td></tr>\n",
       "\t<tr><td>GI   </td><td>Intra</td><td>   835</td><td>0.533%</td></tr>\n",
       "\t<tr><td>NS   </td><td>Cross</td><td> 26341</td><td>16.8% </td></tr>\n",
       "\t<tr><td>NS   </td><td>Intra</td><td>117193</td><td>74.9% </td></tr>\n",
       "\t<tr><td>Other</td><td>Cross</td><td>  4164</td><td>2.66% </td></tr>\n",
       "\t<tr><td>Other</td><td>Intra</td><td>  1212</td><td>0.77% </td></tr>\n",
       "</tbody>\n",
       "</table>\n"
      ],
      "text/latex": [
       "A grouped\\_df: 8 × 4\n",
       "\\begin{tabular}{llll}\n",
       " Field & CrossIntra & count & percent\\\\\n",
       " <chr> & <chr> & <int> & <chr>\\\\\n",
       "\\hline\n",
       "\t EC    & Cross &   4155 & 2.65\\% \\\\\n",
       "\t EC    & Intra &    764 & 0.49\\% \\\\\n",
       "\t GI    & Cross &   1855 & 1.185\\%\\\\\n",
       "\t GI    & Intra &    835 & 0.533\\%\\\\\n",
       "\t NS    & Cross &  26341 & 16.8\\% \\\\\n",
       "\t NS    & Intra & 117193 & 74.9\\% \\\\\n",
       "\t Other & Cross &   4164 & 2.66\\% \\\\\n",
       "\t Other & Intra &   1212 & 0.77\\% \\\\\n",
       "\\end{tabular}\n"
      ],
      "text/markdown": [
       "\n",
       "A grouped_df: 8 × 4\n",
       "\n",
       "| Field &lt;chr&gt; | CrossIntra &lt;chr&gt; | count &lt;int&gt; | percent &lt;chr&gt; |\n",
       "|---|---|---|---|\n",
       "| EC    | Cross |   4155 | 2.65%  |\n",
       "| EC    | Intra |    764 | 0.49%  |\n",
       "| GI    | Cross |   1855 | 1.185% |\n",
       "| GI    | Intra |    835 | 0.533% |\n",
       "| NS    | Cross |  26341 | 16.8%  |\n",
       "| NS    | Intra | 117193 | 74.9%  |\n",
       "| Other | Cross |   4164 | 2.66%  |\n",
       "| Other | Intra |   1212 | 0.77%  |\n",
       "\n"
      ],
      "text/plain": [
       "  Field CrossIntra count  percent\n",
       "1 EC    Cross        4155 2.65%  \n",
       "2 EC    Intra         764 0.49%  \n",
       "3 GI    Cross        1855 1.185% \n",
       "4 GI    Intra         835 0.533% \n",
       "5 NS    Cross       26341 16.8%  \n",
       "6 NS    Intra      117193 74.9%  \n",
       "7 Other Cross        4164 2.66%  \n",
       "8 Other Intra        1212 0.77%  "
      ]
     },
     "metadata": {},
     "output_type": "display_data"
    }
   ],
   "source": [
    "pubs_cited %>% group_by(Field, CrossIntra) %>%\n",
    "  summarise(count = n()) %>% \n",
    "  mutate(percent = percent(count/nrow(pubs_cited)))"
   ]
  },
  {
   "cell_type": "markdown",
   "metadata": {},
   "source": [
    "Count and percentage of cited-by articles by field"
   ]
  },
  {
   "cell_type": "code",
   "execution_count": 10,
   "metadata": {},
   "outputs": [
    {
     "name": "stderr",
     "output_type": "stream",
     "text": [
      "`summarise()` regrouping output by 'Field' (override with `.groups` argument)\n"
     ]
    },
    {
     "data": {
      "text/html": [
       "<table>\n",
       "<caption>A grouped_df: 16 × 4</caption>\n",
       "<thead>\n",
       "\t<tr><th scope=col>Field</th><th scope=col>Source</th><th scope=col>count</th><th scope=col>percentage</th></tr>\n",
       "\t<tr><th scope=col>&lt;chr&gt;</th><th scope=col>&lt;chr&gt;</th><th scope=col>&lt;int&gt;</th><th scope=col>&lt;chr&gt;</th></tr>\n",
       "</thead>\n",
       "<tbody>\n",
       "\t<tr><td>EC   </td><td>EC   </td><td>   764</td><td>15.5%</td></tr>\n",
       "\t<tr><td>EC   </td><td>GI   </td><td>  1581</td><td>32.1%</td></tr>\n",
       "\t<tr><td>EC   </td><td>NS   </td><td>  2368</td><td>48.1%</td></tr>\n",
       "\t<tr><td>EC   </td><td>Other</td><td>   206</td><td>4.2% </td></tr>\n",
       "\t<tr><td>GI   </td><td>EC   </td><td>    57</td><td>2.1% </td></tr>\n",
       "\t<tr><td>GI   </td><td>GI   </td><td>   835</td><td>31.0%</td></tr>\n",
       "\t<tr><td>GI   </td><td>NS   </td><td>  1759</td><td>65.4%</td></tr>\n",
       "\t<tr><td>GI   </td><td>Other</td><td>    39</td><td>1.4% </td></tr>\n",
       "\t<tr><td>NS   </td><td>EC   </td><td>  1908</td><td>1.3% </td></tr>\n",
       "\t<tr><td>NS   </td><td>GI   </td><td> 22574</td><td>15.7%</td></tr>\n",
       "\t<tr><td>NS   </td><td>NS   </td><td>117193</td><td>81.6%</td></tr>\n",
       "\t<tr><td>NS   </td><td>Other</td><td>  1859</td><td>1.3% </td></tr>\n",
       "\t<tr><td>Other</td><td>EC   </td><td>   193</td><td>3.6% </td></tr>\n",
       "\t<tr><td>Other</td><td>GI   </td><td>   904</td><td>16.8%</td></tr>\n",
       "\t<tr><td>Other</td><td>NS   </td><td>  3067</td><td>57.0%</td></tr>\n",
       "\t<tr><td>Other</td><td>Other</td><td>  1212</td><td>22.5%</td></tr>\n",
       "</tbody>\n",
       "</table>\n"
      ],
      "text/latex": [
       "A grouped\\_df: 16 × 4\n",
       "\\begin{tabular}{llll}\n",
       " Field & Source & count & percentage\\\\\n",
       " <chr> & <chr> & <int> & <chr>\\\\\n",
       "\\hline\n",
       "\t EC    & EC    &    764 & 15.5\\%\\\\\n",
       "\t EC    & GI    &   1581 & 32.1\\%\\\\\n",
       "\t EC    & NS    &   2368 & 48.1\\%\\\\\n",
       "\t EC    & Other &    206 & 4.2\\% \\\\\n",
       "\t GI    & EC    &     57 & 2.1\\% \\\\\n",
       "\t GI    & GI    &    835 & 31.0\\%\\\\\n",
       "\t GI    & NS    &   1759 & 65.4\\%\\\\\n",
       "\t GI    & Other &     39 & 1.4\\% \\\\\n",
       "\t NS    & EC    &   1908 & 1.3\\% \\\\\n",
       "\t NS    & GI    &  22574 & 15.7\\%\\\\\n",
       "\t NS    & NS    & 117193 & 81.6\\%\\\\\n",
       "\t NS    & Other &   1859 & 1.3\\% \\\\\n",
       "\t Other & EC    &    193 & 3.6\\% \\\\\n",
       "\t Other & GI    &    904 & 16.8\\%\\\\\n",
       "\t Other & NS    &   3067 & 57.0\\%\\\\\n",
       "\t Other & Other &   1212 & 22.5\\%\\\\\n",
       "\\end{tabular}\n"
      ],
      "text/markdown": [
       "\n",
       "A grouped_df: 16 × 4\n",
       "\n",
       "| Field &lt;chr&gt; | Source &lt;chr&gt; | count &lt;int&gt; | percentage &lt;chr&gt; |\n",
       "|---|---|---|---|\n",
       "| EC    | EC    |    764 | 15.5% |\n",
       "| EC    | GI    |   1581 | 32.1% |\n",
       "| EC    | NS    |   2368 | 48.1% |\n",
       "| EC    | Other |    206 | 4.2%  |\n",
       "| GI    | EC    |     57 | 2.1%  |\n",
       "| GI    | GI    |    835 | 31.0% |\n",
       "| GI    | NS    |   1759 | 65.4% |\n",
       "| GI    | Other |     39 | 1.4%  |\n",
       "| NS    | EC    |   1908 | 1.3%  |\n",
       "| NS    | GI    |  22574 | 15.7% |\n",
       "| NS    | NS    | 117193 | 81.6% |\n",
       "| NS    | Other |   1859 | 1.3%  |\n",
       "| Other | EC    |    193 | 3.6%  |\n",
       "| Other | GI    |    904 | 16.8% |\n",
       "| Other | NS    |   3067 | 57.0% |\n",
       "| Other | Other |   1212 | 22.5% |\n",
       "\n"
      ],
      "text/plain": [
       "   Field Source count  percentage\n",
       "1  EC    EC        764 15.5%     \n",
       "2  EC    GI       1581 32.1%     \n",
       "3  EC    NS       2368 48.1%     \n",
       "4  EC    Other     206 4.2%      \n",
       "5  GI    EC         57 2.1%      \n",
       "6  GI    GI        835 31.0%     \n",
       "7  GI    NS       1759 65.4%     \n",
       "8  GI    Other      39 1.4%      \n",
       "9  NS    EC       1908 1.3%      \n",
       "10 NS    GI      22574 15.7%     \n",
       "11 NS    NS     117193 81.6%     \n",
       "12 NS    Other    1859 1.3%      \n",
       "13 Other EC        193 3.6%      \n",
       "14 Other GI        904 16.8%     \n",
       "15 Other NS       3067 57.0%     \n",
       "16 Other Other    1212 22.5%     "
      ]
     },
     "metadata": {},
     "output_type": "display_data"
    }
   ],
   "source": [
    "pubs_cited %>% group_by(Field, Source) %>%\n",
    "  summarize(count = n()) %>%\n",
    "  mutate(percentage = percent(count/sum(count)))"
   ]
  },
  {
   "cell_type": "markdown",
   "metadata": {},
   "source": [
    "Count cross-/intra-disciplinary citations per award"
   ]
  },
  {
   "cell_type": "code",
   "execution_count": 11,
   "metadata": {},
   "outputs": [
    {
     "name": "stderr",
     "output_type": "stream",
     "text": [
      "`summarise()` regrouping output by 'award_id', 'Source' (override with `.groups` argument)\n"
     ]
    },
    {
     "name": "stdout",
     "output_type": "stream",
     "text": [
      "EC Cross 68.7% \n",
      "EC Intra 34.8% \n",
      "GI Cross 96.1% \n",
      "GI Intra 5.76% \n",
      "NS Cross 14.2% \n",
      "NS Intra 92.1% \n",
      "Other Cross 64.8% \n",
      "Other Intra 41.8% \n"
     ]
    }
   ],
   "source": [
    "peraward = pubs_cited %>% group_by(award_id, Source, CrossIntra) %>%  \n",
    "  summarize(percentage = n()) %>%\n",
    "  mutate(percentage = percentage/sum(percentage))\n",
    "for (source in c(\"EC\", \"GI\", \"NS\", \"Other\")) {\n",
    "  for (type in c(\"Cross\", \"Intra\")) {\n",
    "    cat(source, type,\n",
    "        percent(mean(peraward[peraward$Source == source & peraward$CrossIntra == type,]$percentage)),\n",
    "        \"\\n\")\n",
    "  }\n",
    "}"
   ]
  },
  {
   "cell_type": "markdown",
   "metadata": {},
   "source": [
    "### Comparator Set"
   ]
  },
  {
   "cell_type": "markdown",
   "metadata": {},
   "source": [
    "Comp set fields"
   ]
  },
  {
   "cell_type": "code",
   "execution_count": 12,
   "metadata": {},
   "outputs": [
    {
     "name": "stderr",
     "output_type": "stream",
     "text": [
      "`summarise()` ungrouping output (override with `.groups` argument)\n"
     ]
    },
    {
     "data": {
      "text/html": [
       "<table>\n",
       "<caption>A tibble: 4 × 3</caption>\n",
       "<thead>\n",
       "\t<tr><th scope=col>Field</th><th scope=col>count</th><th scope=col>percent</th></tr>\n",
       "\t<tr><th scope=col>&lt;chr&gt;</th><th scope=col>&lt;int&gt;</th><th scope=col>&lt;chr&gt;</th></tr>\n",
       "</thead>\n",
       "<tbody>\n",
       "\t<tr><td>EC   </td><td>  1105</td><td>0.7% </td></tr>\n",
       "\t<tr><td>GI   </td><td>  5766</td><td>3.7% </td></tr>\n",
       "\t<tr><td>NS   </td><td>146473</td><td>94.3%</td></tr>\n",
       "\t<tr><td>Other</td><td>  1943</td><td>1.3% </td></tr>\n",
       "</tbody>\n",
       "</table>\n"
      ],
      "text/latex": [
       "A tibble: 4 × 3\n",
       "\\begin{tabular}{lll}\n",
       " Field & count & percent\\\\\n",
       " <chr> & <int> & <chr>\\\\\n",
       "\\hline\n",
       "\t EC    &   1105 & 0.7\\% \\\\\n",
       "\t GI    &   5766 & 3.7\\% \\\\\n",
       "\t NS    & 146473 & 94.3\\%\\\\\n",
       "\t Other &   1943 & 1.3\\% \\\\\n",
       "\\end{tabular}\n"
      ],
      "text/markdown": [
       "\n",
       "A tibble: 4 × 3\n",
       "\n",
       "| Field &lt;chr&gt; | count &lt;int&gt; | percent &lt;chr&gt; |\n",
       "|---|---|---|\n",
       "| EC    |   1105 | 0.7%  |\n",
       "| GI    |   5766 | 3.7%  |\n",
       "| NS    | 146473 | 94.3% |\n",
       "| Other |   1943 | 1.3%  |\n",
       "\n"
      ],
      "text/plain": [
       "  Field count  percent\n",
       "1 EC      1105 0.7%   \n",
       "2 GI      5766 3.7%   \n",
       "3 NS    146473 94.3%  \n",
       "4 Other   1943 1.3%   "
      ]
     },
     "metadata": {},
     "output_type": "display_data"
    }
   ],
   "source": [
    "comp %>% group_by(Field) %>% \n",
    "  summarise(count = n()) %>%\n",
    "  mutate(percent = percent(count/sum(count)))"
   ]
  },
  {
   "cell_type": "markdown",
   "metadata": {},
   "source": [
    "Total and average citation by field"
   ]
  },
  {
   "cell_type": "code",
   "execution_count": 13,
   "metadata": {},
   "outputs": [
    {
     "name": "stderr",
     "output_type": "stream",
     "text": [
      "`summarise()` ungrouping output (override with `.groups` argument)\n"
     ]
    },
    {
     "data": {
      "text/html": [
       "<table>\n",
       "<caption>A tibble: 4 × 4</caption>\n",
       "<thead>\n",
       "\t<tr><th scope=col>Field</th><th scope=col>avg_CiteScore</th><th scope=col>total_citations</th><th scope=col>mean</th></tr>\n",
       "\t<tr><th scope=col>&lt;chr&gt;</th><th scope=col>&lt;dbl&gt;</th><th scope=col>&lt;int&gt;</th><th scope=col>&lt;dbl&gt;</th></tr>\n",
       "</thead>\n",
       "<tbody>\n",
       "\t<tr><td>EC   </td><td> 3.619783</td><td>  34418</td><td>31.14751</td></tr>\n",
       "\t<tr><td>GI   </td><td>11.019969</td><td> 538751</td><td>93.43583</td></tr>\n",
       "\t<tr><td>NS   </td><td> 4.470149</td><td>3219808</td><td>21.98226</td></tr>\n",
       "\t<tr><td>Other</td><td> 3.168950</td><td>  41287</td><td>21.24910</td></tr>\n",
       "</tbody>\n",
       "</table>\n"
      ],
      "text/latex": [
       "A tibble: 4 × 4\n",
       "\\begin{tabular}{llll}\n",
       " Field & avg\\_CiteScore & total\\_citations & mean\\\\\n",
       " <chr> & <dbl> & <int> & <dbl>\\\\\n",
       "\\hline\n",
       "\t EC    &  3.619783 &   34418 & 31.14751\\\\\n",
       "\t GI    & 11.019969 &  538751 & 93.43583\\\\\n",
       "\t NS    &  4.470149 & 3219808 & 21.98226\\\\\n",
       "\t Other &  3.168950 &   41287 & 21.24910\\\\\n",
       "\\end{tabular}\n"
      ],
      "text/markdown": [
       "\n",
       "A tibble: 4 × 4\n",
       "\n",
       "| Field &lt;chr&gt; | avg_CiteScore &lt;dbl&gt; | total_citations &lt;int&gt; | mean &lt;dbl&gt; |\n",
       "|---|---|---|---|\n",
       "| EC    |  3.619783 |   34418 | 31.14751 |\n",
       "| GI    | 11.019969 |  538751 | 93.43583 |\n",
       "| NS    |  4.470149 | 3219808 | 21.98226 |\n",
       "| Other |  3.168950 |   41287 | 21.24910 |\n",
       "\n"
      ],
      "text/plain": [
       "  Field avg_CiteScore total_citations mean    \n",
       "1 EC     3.619783       34418         31.14751\n",
       "2 GI    11.019969      538751         93.43583\n",
       "3 NS     4.470149     3219808         21.98226\n",
       "4 Other  3.168950       41287         21.24910"
      ]
     },
     "metadata": {},
     "output_type": "display_data"
    }
   ],
   "source": [
    "comp %>% group_by(Field) %>%\n",
    "  summarise(avg_CiteScore = mean(CiteScore), total_citations = sum(citation_count), mean = mean(citation_count))"
   ]
  },
  {
   "cell_type": "markdown",
   "metadata": {},
   "source": [
    "Count and percentage of cited-by articles by type"
   ]
  },
  {
   "cell_type": "code",
   "execution_count": 14,
   "metadata": {},
   "outputs": [
    {
     "name": "stderr",
     "output_type": "stream",
     "text": [
      "`summarise()` regrouping output by 'Field' (override with `.groups` argument)\n"
     ]
    },
    {
     "data": {
      "text/html": [
       "<table>\n",
       "<caption>A grouped_df: 8 × 4</caption>\n",
       "<thead>\n",
       "\t<tr><th scope=col>Field</th><th scope=col>CrossIntra</th><th scope=col>count</th><th scope=col>percent</th></tr>\n",
       "\t<tr><th scope=col>&lt;chr&gt;</th><th scope=col>&lt;chr&gt;</th><th scope=col>&lt;int&gt;</th><th scope=col>&lt;chr&gt;</th></tr>\n",
       "</thead>\n",
       "<tbody>\n",
       "\t<tr><td>EC   </td><td>Cross</td><td>  3484</td><td>2.24% </td></tr>\n",
       "\t<tr><td>EC   </td><td>Intra</td><td>  1823</td><td>1.17% </td></tr>\n",
       "\t<tr><td>GI   </td><td>Cross</td><td>  2612</td><td>1.682%</td></tr>\n",
       "\t<tr><td>GI   </td><td>Intra</td><td>  1767</td><td>1.138%</td></tr>\n",
       "\t<tr><td>NS   </td><td>Cross</td><td> 71527</td><td>46%   </td></tr>\n",
       "\t<tr><td>NS   </td><td>Intra</td><td>359285</td><td>231%  </td></tr>\n",
       "\t<tr><td>Other</td><td>Cross</td><td> 15891</td><td>10.23%</td></tr>\n",
       "\t<tr><td>Other</td><td>Intra</td><td>   478</td><td>0.31% </td></tr>\n",
       "</tbody>\n",
       "</table>\n"
      ],
      "text/latex": [
       "A grouped\\_df: 8 × 4\n",
       "\\begin{tabular}{llll}\n",
       " Field & CrossIntra & count & percent\\\\\n",
       " <chr> & <chr> & <int> & <chr>\\\\\n",
       "\\hline\n",
       "\t EC    & Cross &   3484 & 2.24\\% \\\\\n",
       "\t EC    & Intra &   1823 & 1.17\\% \\\\\n",
       "\t GI    & Cross &   2612 & 1.682\\%\\\\\n",
       "\t GI    & Intra &   1767 & 1.138\\%\\\\\n",
       "\t NS    & Cross &  71527 & 46\\%   \\\\\n",
       "\t NS    & Intra & 359285 & 231\\%  \\\\\n",
       "\t Other & Cross &  15891 & 10.23\\%\\\\\n",
       "\t Other & Intra &    478 & 0.31\\% \\\\\n",
       "\\end{tabular}\n"
      ],
      "text/markdown": [
       "\n",
       "A grouped_df: 8 × 4\n",
       "\n",
       "| Field &lt;chr&gt; | CrossIntra &lt;chr&gt; | count &lt;int&gt; | percent &lt;chr&gt; |\n",
       "|---|---|---|---|\n",
       "| EC    | Cross |   3484 | 2.24%  |\n",
       "| EC    | Intra |   1823 | 1.17%  |\n",
       "| GI    | Cross |   2612 | 1.682% |\n",
       "| GI    | Intra |   1767 | 1.138% |\n",
       "| NS    | Cross |  71527 | 46%    |\n",
       "| NS    | Intra | 359285 | 231%   |\n",
       "| Other | Cross |  15891 | 10.23% |\n",
       "| Other | Intra |    478 | 0.31%  |\n",
       "\n"
      ],
      "text/plain": [
       "  Field CrossIntra count  percent\n",
       "1 EC    Cross        3484 2.24%  \n",
       "2 EC    Intra        1823 1.17%  \n",
       "3 GI    Cross        2612 1.682% \n",
       "4 GI    Intra        1767 1.138% \n",
       "5 NS    Cross       71527 46%    \n",
       "6 NS    Intra      359285 231%   \n",
       "7 Other Cross       15891 10.23% \n",
       "8 Other Intra         478 0.31%  "
      ]
     },
     "metadata": {},
     "output_type": "display_data"
    }
   ],
   "source": [
    "comp_cited %>% group_by(Field, CrossIntra) %>%\n",
    "  summarise(count = n()) %>% \n",
    "  mutate(percent = percent(count/nrow(comp)))"
   ]
  },
  {
   "cell_type": "markdown",
   "metadata": {},
   "source": [
    "Count and percentage of cited-by articles by field"
   ]
  },
  {
   "cell_type": "code",
   "execution_count": 15,
   "metadata": {},
   "outputs": [
    {
     "name": "stderr",
     "output_type": "stream",
     "text": [
      "`summarise()` regrouping output by 'Field' (override with `.groups` argument)\n"
     ]
    },
    {
     "data": {
      "text/html": [
       "<table>\n",
       "<caption>A grouped_df: 16 × 4</caption>\n",
       "<thead>\n",
       "\t<tr><th scope=col>Field</th><th scope=col>Source</th><th scope=col>count</th><th scope=col>percentage</th></tr>\n",
       "\t<tr><th scope=col>&lt;chr&gt;</th><th scope=col>&lt;chr&gt;</th><th scope=col>&lt;int&gt;</th><th scope=col>&lt;chr&gt;</th></tr>\n",
       "</thead>\n",
       "<tbody>\n",
       "\t<tr><td>EC   </td><td>EC   </td><td>  1823</td><td>34.4%</td></tr>\n",
       "\t<tr><td>EC   </td><td>GI   </td><td>   409</td><td>7.7% </td></tr>\n",
       "\t<tr><td>EC   </td><td>NS   </td><td>  3063</td><td>57.7%</td></tr>\n",
       "\t<tr><td>EC   </td><td>Other</td><td>    12</td><td>0.2% </td></tr>\n",
       "\t<tr><td>GI   </td><td>EC   </td><td>    67</td><td>1.5% </td></tr>\n",
       "\t<tr><td>GI   </td><td>GI   </td><td>  1767</td><td>40.4%</td></tr>\n",
       "\t<tr><td>GI   </td><td>NS   </td><td>  2530</td><td>57.8%</td></tr>\n",
       "\t<tr><td>GI   </td><td>Other</td><td>    15</td><td>0.3% </td></tr>\n",
       "\t<tr><td>NS   </td><td>EC   </td><td>  5288</td><td>1.2% </td></tr>\n",
       "\t<tr><td>NS   </td><td>GI   </td><td> 65870</td><td>15.3%</td></tr>\n",
       "\t<tr><td>NS   </td><td>NS   </td><td>359285</td><td>83.4%</td></tr>\n",
       "\t<tr><td>NS   </td><td>Other</td><td>   369</td><td>0.1% </td></tr>\n",
       "\t<tr><td>Other</td><td>EC   </td><td>   509</td><td>3.1% </td></tr>\n",
       "\t<tr><td>Other</td><td>GI   </td><td>  2533</td><td>15.5%</td></tr>\n",
       "\t<tr><td>Other</td><td>NS   </td><td> 12849</td><td>78.5%</td></tr>\n",
       "\t<tr><td>Other</td><td>Other</td><td>   478</td><td>2.9% </td></tr>\n",
       "</tbody>\n",
       "</table>\n"
      ],
      "text/latex": [
       "A grouped\\_df: 16 × 4\n",
       "\\begin{tabular}{llll}\n",
       " Field & Source & count & percentage\\\\\n",
       " <chr> & <chr> & <int> & <chr>\\\\\n",
       "\\hline\n",
       "\t EC    & EC    &   1823 & 34.4\\%\\\\\n",
       "\t EC    & GI    &    409 & 7.7\\% \\\\\n",
       "\t EC    & NS    &   3063 & 57.7\\%\\\\\n",
       "\t EC    & Other &     12 & 0.2\\% \\\\\n",
       "\t GI    & EC    &     67 & 1.5\\% \\\\\n",
       "\t GI    & GI    &   1767 & 40.4\\%\\\\\n",
       "\t GI    & NS    &   2530 & 57.8\\%\\\\\n",
       "\t GI    & Other &     15 & 0.3\\% \\\\\n",
       "\t NS    & EC    &   5288 & 1.2\\% \\\\\n",
       "\t NS    & GI    &  65870 & 15.3\\%\\\\\n",
       "\t NS    & NS    & 359285 & 83.4\\%\\\\\n",
       "\t NS    & Other &    369 & 0.1\\% \\\\\n",
       "\t Other & EC    &    509 & 3.1\\% \\\\\n",
       "\t Other & GI    &   2533 & 15.5\\%\\\\\n",
       "\t Other & NS    &  12849 & 78.5\\%\\\\\n",
       "\t Other & Other &    478 & 2.9\\% \\\\\n",
       "\\end{tabular}\n"
      ],
      "text/markdown": [
       "\n",
       "A grouped_df: 16 × 4\n",
       "\n",
       "| Field &lt;chr&gt; | Source &lt;chr&gt; | count &lt;int&gt; | percentage &lt;chr&gt; |\n",
       "|---|---|---|---|\n",
       "| EC    | EC    |   1823 | 34.4% |\n",
       "| EC    | GI    |    409 | 7.7%  |\n",
       "| EC    | NS    |   3063 | 57.7% |\n",
       "| EC    | Other |     12 | 0.2%  |\n",
       "| GI    | EC    |     67 | 1.5%  |\n",
       "| GI    | GI    |   1767 | 40.4% |\n",
       "| GI    | NS    |   2530 | 57.8% |\n",
       "| GI    | Other |     15 | 0.3%  |\n",
       "| NS    | EC    |   5288 | 1.2%  |\n",
       "| NS    | GI    |  65870 | 15.3% |\n",
       "| NS    | NS    | 359285 | 83.4% |\n",
       "| NS    | Other |    369 | 0.1%  |\n",
       "| Other | EC    |    509 | 3.1%  |\n",
       "| Other | GI    |   2533 | 15.5% |\n",
       "| Other | NS    |  12849 | 78.5% |\n",
       "| Other | Other |    478 | 2.9%  |\n",
       "\n"
      ],
      "text/plain": [
       "   Field Source count  percentage\n",
       "1  EC    EC       1823 34.4%     \n",
       "2  EC    GI        409 7.7%      \n",
       "3  EC    NS       3063 57.7%     \n",
       "4  EC    Other      12 0.2%      \n",
       "5  GI    EC         67 1.5%      \n",
       "6  GI    GI       1767 40.4%     \n",
       "7  GI    NS       2530 57.8%     \n",
       "8  GI    Other      15 0.3%      \n",
       "9  NS    EC       5288 1.2%      \n",
       "10 NS    GI      65870 15.3%     \n",
       "11 NS    NS     359285 83.4%     \n",
       "12 NS    Other     369 0.1%      \n",
       "13 Other EC        509 3.1%      \n",
       "14 Other GI       2533 15.5%     \n",
       "15 Other NS      12849 78.5%     \n",
       "16 Other Other     478 2.9%      "
      ]
     },
     "metadata": {},
     "output_type": "display_data"
    }
   ],
   "source": [
    "comp_cited %>% group_by(Field, Source) %>%\n",
    "  summarize(count = n()) %>%\n",
    "  mutate(percentage = percent(count/sum(count)))"
   ]
  },
  {
   "cell_type": "markdown",
   "metadata": {},
   "source": [
    "## Appendix Table"
   ]
  },
  {
   "cell_type": "code",
   "execution_count": null,
   "metadata": {
    "scrolled": true
   },
   "outputs": [],
   "source": [
    "app.table = full_data %>%\n",
    "    group_by(\"Publication Name\"=tools::toTitleCase(publication_name)) %>%\n",
    "    summarise(Interdisciplinary = sum(Dataset == \"Interdisciplinary\"),\n",
    "              Comparator = sum(Dataset == \"Comparator\"),\n",
    "              \"# Unique Issues\" = length(unique(tolower(query))),\n",
    "              .groups=\"keep\")\n",
    "app.table\n",
    "fwrite(app.table, \"Appendix_Table_1.csv\")"
   ]
  },
  {
   "cell_type": "code",
   "execution_count": null,
   "metadata": {},
   "outputs": [],
   "source": []
  }
 ],
 "metadata": {
  "kernelspec": {
   "display_name": "R",
   "language": "R",
   "name": "ir"
  },
  "language_info": {
   "codemirror_mode": "r",
   "file_extension": ".r",
   "mimetype": "text/x-r-source",
   "name": "R",
   "pygments_lexer": "r",
   "version": "3.6.1"
  }
 },
 "nbformat": 4,
 "nbformat_minor": 4
}
